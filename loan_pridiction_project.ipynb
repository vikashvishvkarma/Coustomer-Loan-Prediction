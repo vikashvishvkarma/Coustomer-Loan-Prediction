{
  "nbformat": 4,
  "nbformat_minor": 0,
  "metadata": {
    "colab": {
      "name": "loan_pridiction_project.ipynb",
      "provenance": []
    },
    "kernelspec": {
      "name": "python3",
      "display_name": "Python 3"
    },
    "language_info": {
      "name": "python"
    }
  },
  "cells": [
    {
      "cell_type": "code",
      "execution_count": null,
      "metadata": {
        "id": "3RDW2tQm_H3d"
      },
      "outputs": [],
      "source": [
        "import pandas as pd\n",
        "import numpy as np\n",
        "import matplotlib.pyplot as plt"
      ]
    },
    {
      "cell_type": "code",
      "source": [
        "#sd_test=pd.read_csv('/content/drive/MyDrive/project file/test.csv')\n",
        "sd_train=pd.read_csv('/content/drive/MyDrive/project file/train.csv')\n",
        "#sd_sample = pd.read_csv('/content/drive/MyDrive/project file/sample_submission.csv')"
      ],
      "metadata": {
        "id": "rTuRlJIs_2n8"
      },
      "execution_count": null,
      "outputs": []
    },
    {
      "cell_type": "code",
      "source": [
        "sd_train.head()"
      ],
      "metadata": {
        "colab": {
          "base_uri": "https://localhost:8080/",
          "height": 206
        },
        "id": "mVb8Ygc4Am9T",
        "outputId": "8b11ff88-b95c-4046-9b56-98afbed5249a"
      },
      "execution_count": null,
      "outputs": [
        {
          "output_type": "execute_result",
          "data": {
            "text/plain": [
              "    Loan_ID Gender Married Dependents     Education Self_Employed  \\\n",
              "0  LP001002   Male      No          0      Graduate            No   \n",
              "1  LP001003   Male     Yes          1      Graduate            No   \n",
              "2  LP001005   Male     Yes          0      Graduate           Yes   \n",
              "3  LP001006   Male     Yes          0  Not Graduate            No   \n",
              "4  LP001008   Male      No          0      Graduate            No   \n",
              "\n",
              "   ApplicantIncome  CoapplicantIncome  LoanAmount  Loan_Amount_Term  \\\n",
              "0             5849                0.0         NaN             360.0   \n",
              "1             4583             1508.0       128.0             360.0   \n",
              "2             3000                0.0        66.0             360.0   \n",
              "3             2583             2358.0       120.0             360.0   \n",
              "4             6000                0.0       141.0             360.0   \n",
              "\n",
              "   Credit_History Property_Area Loan_Status  \n",
              "0             1.0         Urban           Y  \n",
              "1             1.0         Rural           N  \n",
              "2             1.0         Urban           Y  \n",
              "3             1.0         Urban           Y  \n",
              "4             1.0         Urban           Y  "
            ],
            "text/html": [
              "\n",
              "  <div id=\"df-38e1550b-e90f-4c6b-bead-86d0f5237c58\">\n",
              "    <div class=\"colab-df-container\">\n",
              "      <div>\n",
              "<style scoped>\n",
              "    .dataframe tbody tr th:only-of-type {\n",
              "        vertical-align: middle;\n",
              "    }\n",
              "\n",
              "    .dataframe tbody tr th {\n",
              "        vertical-align: top;\n",
              "    }\n",
              "\n",
              "    .dataframe thead th {\n",
              "        text-align: right;\n",
              "    }\n",
              "</style>\n",
              "<table border=\"1\" class=\"dataframe\">\n",
              "  <thead>\n",
              "    <tr style=\"text-align: right;\">\n",
              "      <th></th>\n",
              "      <th>Loan_ID</th>\n",
              "      <th>Gender</th>\n",
              "      <th>Married</th>\n",
              "      <th>Dependents</th>\n",
              "      <th>Education</th>\n",
              "      <th>Self_Employed</th>\n",
              "      <th>ApplicantIncome</th>\n",
              "      <th>CoapplicantIncome</th>\n",
              "      <th>LoanAmount</th>\n",
              "      <th>Loan_Amount_Term</th>\n",
              "      <th>Credit_History</th>\n",
              "      <th>Property_Area</th>\n",
              "      <th>Loan_Status</th>\n",
              "    </tr>\n",
              "  </thead>\n",
              "  <tbody>\n",
              "    <tr>\n",
              "      <th>0</th>\n",
              "      <td>LP001002</td>\n",
              "      <td>Male</td>\n",
              "      <td>No</td>\n",
              "      <td>0</td>\n",
              "      <td>Graduate</td>\n",
              "      <td>No</td>\n",
              "      <td>5849</td>\n",
              "      <td>0.0</td>\n",
              "      <td>NaN</td>\n",
              "      <td>360.0</td>\n",
              "      <td>1.0</td>\n",
              "      <td>Urban</td>\n",
              "      <td>Y</td>\n",
              "    </tr>\n",
              "    <tr>\n",
              "      <th>1</th>\n",
              "      <td>LP001003</td>\n",
              "      <td>Male</td>\n",
              "      <td>Yes</td>\n",
              "      <td>1</td>\n",
              "      <td>Graduate</td>\n",
              "      <td>No</td>\n",
              "      <td>4583</td>\n",
              "      <td>1508.0</td>\n",
              "      <td>128.0</td>\n",
              "      <td>360.0</td>\n",
              "      <td>1.0</td>\n",
              "      <td>Rural</td>\n",
              "      <td>N</td>\n",
              "    </tr>\n",
              "    <tr>\n",
              "      <th>2</th>\n",
              "      <td>LP001005</td>\n",
              "      <td>Male</td>\n",
              "      <td>Yes</td>\n",
              "      <td>0</td>\n",
              "      <td>Graduate</td>\n",
              "      <td>Yes</td>\n",
              "      <td>3000</td>\n",
              "      <td>0.0</td>\n",
              "      <td>66.0</td>\n",
              "      <td>360.0</td>\n",
              "      <td>1.0</td>\n",
              "      <td>Urban</td>\n",
              "      <td>Y</td>\n",
              "    </tr>\n",
              "    <tr>\n",
              "      <th>3</th>\n",
              "      <td>LP001006</td>\n",
              "      <td>Male</td>\n",
              "      <td>Yes</td>\n",
              "      <td>0</td>\n",
              "      <td>Not Graduate</td>\n",
              "      <td>No</td>\n",
              "      <td>2583</td>\n",
              "      <td>2358.0</td>\n",
              "      <td>120.0</td>\n",
              "      <td>360.0</td>\n",
              "      <td>1.0</td>\n",
              "      <td>Urban</td>\n",
              "      <td>Y</td>\n",
              "    </tr>\n",
              "    <tr>\n",
              "      <th>4</th>\n",
              "      <td>LP001008</td>\n",
              "      <td>Male</td>\n",
              "      <td>No</td>\n",
              "      <td>0</td>\n",
              "      <td>Graduate</td>\n",
              "      <td>No</td>\n",
              "      <td>6000</td>\n",
              "      <td>0.0</td>\n",
              "      <td>141.0</td>\n",
              "      <td>360.0</td>\n",
              "      <td>1.0</td>\n",
              "      <td>Urban</td>\n",
              "      <td>Y</td>\n",
              "    </tr>\n",
              "  </tbody>\n",
              "</table>\n",
              "</div>\n",
              "      <button class=\"colab-df-convert\" onclick=\"convertToInteractive('df-38e1550b-e90f-4c6b-bead-86d0f5237c58')\"\n",
              "              title=\"Convert this dataframe to an interactive table.\"\n",
              "              style=\"display:none;\">\n",
              "        \n",
              "  <svg xmlns=\"http://www.w3.org/2000/svg\" height=\"24px\"viewBox=\"0 0 24 24\"\n",
              "       width=\"24px\">\n",
              "    <path d=\"M0 0h24v24H0V0z\" fill=\"none\"/>\n",
              "    <path d=\"M18.56 5.44l.94 2.06.94-2.06 2.06-.94-2.06-.94-.94-2.06-.94 2.06-2.06.94zm-11 1L8.5 8.5l.94-2.06 2.06-.94-2.06-.94L8.5 2.5l-.94 2.06-2.06.94zm10 10l.94 2.06.94-2.06 2.06-.94-2.06-.94-.94-2.06-.94 2.06-2.06.94z\"/><path d=\"M17.41 7.96l-1.37-1.37c-.4-.4-.92-.59-1.43-.59-.52 0-1.04.2-1.43.59L10.3 9.45l-7.72 7.72c-.78.78-.78 2.05 0 2.83L4 21.41c.39.39.9.59 1.41.59.51 0 1.02-.2 1.41-.59l7.78-7.78 2.81-2.81c.8-.78.8-2.07 0-2.86zM5.41 20L4 18.59l7.72-7.72 1.47 1.35L5.41 20z\"/>\n",
              "  </svg>\n",
              "      </button>\n",
              "      \n",
              "  <style>\n",
              "    .colab-df-container {\n",
              "      display:flex;\n",
              "      flex-wrap:wrap;\n",
              "      gap: 12px;\n",
              "    }\n",
              "\n",
              "    .colab-df-convert {\n",
              "      background-color: #E8F0FE;\n",
              "      border: none;\n",
              "      border-radius: 50%;\n",
              "      cursor: pointer;\n",
              "      display: none;\n",
              "      fill: #1967D2;\n",
              "      height: 32px;\n",
              "      padding: 0 0 0 0;\n",
              "      width: 32px;\n",
              "    }\n",
              "\n",
              "    .colab-df-convert:hover {\n",
              "      background-color: #E2EBFA;\n",
              "      box-shadow: 0px 1px 2px rgba(60, 64, 67, 0.3), 0px 1px 3px 1px rgba(60, 64, 67, 0.15);\n",
              "      fill: #174EA6;\n",
              "    }\n",
              "\n",
              "    [theme=dark] .colab-df-convert {\n",
              "      background-color: #3B4455;\n",
              "      fill: #D2E3FC;\n",
              "    }\n",
              "\n",
              "    [theme=dark] .colab-df-convert:hover {\n",
              "      background-color: #434B5C;\n",
              "      box-shadow: 0px 1px 3px 1px rgba(0, 0, 0, 0.15);\n",
              "      filter: drop-shadow(0px 1px 2px rgba(0, 0, 0, 0.3));\n",
              "      fill: #FFFFFF;\n",
              "    }\n",
              "  </style>\n",
              "\n",
              "      <script>\n",
              "        const buttonEl =\n",
              "          document.querySelector('#df-38e1550b-e90f-4c6b-bead-86d0f5237c58 button.colab-df-convert');\n",
              "        buttonEl.style.display =\n",
              "          google.colab.kernel.accessAllowed ? 'block' : 'none';\n",
              "\n",
              "        async function convertToInteractive(key) {\n",
              "          const element = document.querySelector('#df-38e1550b-e90f-4c6b-bead-86d0f5237c58');\n",
              "          const dataTable =\n",
              "            await google.colab.kernel.invokeFunction('convertToInteractive',\n",
              "                                                     [key], {});\n",
              "          if (!dataTable) return;\n",
              "\n",
              "          const docLinkHtml = 'Like what you see? Visit the ' +\n",
              "            '<a target=\"_blank\" href=https://colab.research.google.com/notebooks/data_table.ipynb>data table notebook</a>'\n",
              "            + ' to learn more about interactive tables.';\n",
              "          element.innerHTML = '';\n",
              "          dataTable['output_type'] = 'display_data';\n",
              "          await google.colab.output.renderOutput(dataTable, element);\n",
              "          const docLink = document.createElement('div');\n",
              "          docLink.innerHTML = docLinkHtml;\n",
              "          element.appendChild(docLink);\n",
              "        }\n",
              "      </script>\n",
              "    </div>\n",
              "  </div>\n",
              "  "
            ]
          },
          "metadata": {},
          "execution_count": 3
        }
      ]
    },
    {
      "cell_type": "code",
      "source": [
        "sd_train.shape"
      ],
      "metadata": {
        "colab": {
          "base_uri": "https://localhost:8080/"
        },
        "id": "5Fxts02KPvEU",
        "outputId": "ffbe0c23-47cc-419b-d424-d5b9061bad15"
      },
      "execution_count": null,
      "outputs": [
        {
          "output_type": "execute_result",
          "data": {
            "text/plain": [
              "(614, 13)"
            ]
          },
          "metadata": {},
          "execution_count": 4
        }
      ]
    },
    {
      "cell_type": "code",
      "source": [
        "sd_train.info()"
      ],
      "metadata": {
        "id": "REi-FmtYAoxZ",
        "colab": {
          "base_uri": "https://localhost:8080/"
        },
        "outputId": "d4e99077-7503-46c5-8b3e-2c97b6d2e429"
      },
      "execution_count": null,
      "outputs": [
        {
          "output_type": "stream",
          "name": "stdout",
          "text": [
            "<class 'pandas.core.frame.DataFrame'>\n",
            "RangeIndex: 614 entries, 0 to 613\n",
            "Data columns (total 13 columns):\n",
            " #   Column             Non-Null Count  Dtype  \n",
            "---  ------             --------------  -----  \n",
            " 0   Loan_ID            614 non-null    object \n",
            " 1   Gender             601 non-null    object \n",
            " 2   Married            611 non-null    object \n",
            " 3   Dependents         599 non-null    object \n",
            " 4   Education          614 non-null    object \n",
            " 5   Self_Employed      582 non-null    object \n",
            " 6   ApplicantIncome    614 non-null    int64  \n",
            " 7   CoapplicantIncome  614 non-null    float64\n",
            " 8   LoanAmount         592 non-null    float64\n",
            " 9   Loan_Amount_Term   600 non-null    float64\n",
            " 10  Credit_History     564 non-null    float64\n",
            " 11  Property_Area      614 non-null    object \n",
            " 12  Loan_Status        614 non-null    object \n",
            "dtypes: float64(4), int64(1), object(8)\n",
            "memory usage: 62.5+ KB\n"
          ]
        }
      ]
    },
    {
      "cell_type": "markdown",
      "source": [
        "# **For the non-numerical values (e.g. Property_Area, Credit_History,etc.), we can look at frequency distribution to understand whether they make sense or not.**"
      ],
      "metadata": {
        "id": "JiDFZB6WHcqg"
      }
    },
    {
      "cell_type": "code",
      "source": [
        "sd_train_len=len(sd_train)"
      ],
      "metadata": {
        "id": "IPCgrGpjGij4"
      },
      "execution_count": null,
      "outputs": []
    },
    {
      "cell_type": "code",
      "source": [
        "sd_train.describe()"
      ],
      "metadata": {
        "colab": {
          "base_uri": "https://localhost:8080/",
          "height": 300
        },
        "id": "5NTH_BDTEuYX",
        "outputId": "335689c7-e8f8-494b-b100-62dff2f24297"
      },
      "execution_count": null,
      "outputs": [
        {
          "output_type": "execute_result",
          "data": {
            "text/plain": [
              "       ApplicantIncome  CoapplicantIncome  LoanAmount  Loan_Amount_Term  \\\n",
              "count       614.000000         614.000000  592.000000         600.00000   \n",
              "mean       5403.459283        1621.245798  146.412162         342.00000   \n",
              "std        6109.041673        2926.248369   85.587325          65.12041   \n",
              "min         150.000000           0.000000    9.000000          12.00000   \n",
              "25%        2877.500000           0.000000  100.000000         360.00000   \n",
              "50%        3812.500000        1188.500000  128.000000         360.00000   \n",
              "75%        5795.000000        2297.250000  168.000000         360.00000   \n",
              "max       81000.000000       41667.000000  700.000000         480.00000   \n",
              "\n",
              "       Credit_History  \n",
              "count      564.000000  \n",
              "mean         0.842199  \n",
              "std          0.364878  \n",
              "min          0.000000  \n",
              "25%          1.000000  \n",
              "50%          1.000000  \n",
              "75%          1.000000  \n",
              "max          1.000000  "
            ],
            "text/html": [
              "\n",
              "  <div id=\"df-e1553a66-c654-4ad9-8a66-29127ad7900b\">\n",
              "    <div class=\"colab-df-container\">\n",
              "      <div>\n",
              "<style scoped>\n",
              "    .dataframe tbody tr th:only-of-type {\n",
              "        vertical-align: middle;\n",
              "    }\n",
              "\n",
              "    .dataframe tbody tr th {\n",
              "        vertical-align: top;\n",
              "    }\n",
              "\n",
              "    .dataframe thead th {\n",
              "        text-align: right;\n",
              "    }\n",
              "</style>\n",
              "<table border=\"1\" class=\"dataframe\">\n",
              "  <thead>\n",
              "    <tr style=\"text-align: right;\">\n",
              "      <th></th>\n",
              "      <th>ApplicantIncome</th>\n",
              "      <th>CoapplicantIncome</th>\n",
              "      <th>LoanAmount</th>\n",
              "      <th>Loan_Amount_Term</th>\n",
              "      <th>Credit_History</th>\n",
              "    </tr>\n",
              "  </thead>\n",
              "  <tbody>\n",
              "    <tr>\n",
              "      <th>count</th>\n",
              "      <td>614.000000</td>\n",
              "      <td>614.000000</td>\n",
              "      <td>592.000000</td>\n",
              "      <td>600.00000</td>\n",
              "      <td>564.000000</td>\n",
              "    </tr>\n",
              "    <tr>\n",
              "      <th>mean</th>\n",
              "      <td>5403.459283</td>\n",
              "      <td>1621.245798</td>\n",
              "      <td>146.412162</td>\n",
              "      <td>342.00000</td>\n",
              "      <td>0.842199</td>\n",
              "    </tr>\n",
              "    <tr>\n",
              "      <th>std</th>\n",
              "      <td>6109.041673</td>\n",
              "      <td>2926.248369</td>\n",
              "      <td>85.587325</td>\n",
              "      <td>65.12041</td>\n",
              "      <td>0.364878</td>\n",
              "    </tr>\n",
              "    <tr>\n",
              "      <th>min</th>\n",
              "      <td>150.000000</td>\n",
              "      <td>0.000000</td>\n",
              "      <td>9.000000</td>\n",
              "      <td>12.00000</td>\n",
              "      <td>0.000000</td>\n",
              "    </tr>\n",
              "    <tr>\n",
              "      <th>25%</th>\n",
              "      <td>2877.500000</td>\n",
              "      <td>0.000000</td>\n",
              "      <td>100.000000</td>\n",
              "      <td>360.00000</td>\n",
              "      <td>1.000000</td>\n",
              "    </tr>\n",
              "    <tr>\n",
              "      <th>50%</th>\n",
              "      <td>3812.500000</td>\n",
              "      <td>1188.500000</td>\n",
              "      <td>128.000000</td>\n",
              "      <td>360.00000</td>\n",
              "      <td>1.000000</td>\n",
              "    </tr>\n",
              "    <tr>\n",
              "      <th>75%</th>\n",
              "      <td>5795.000000</td>\n",
              "      <td>2297.250000</td>\n",
              "      <td>168.000000</td>\n",
              "      <td>360.00000</td>\n",
              "      <td>1.000000</td>\n",
              "    </tr>\n",
              "    <tr>\n",
              "      <th>max</th>\n",
              "      <td>81000.000000</td>\n",
              "      <td>41667.000000</td>\n",
              "      <td>700.000000</td>\n",
              "      <td>480.00000</td>\n",
              "      <td>1.000000</td>\n",
              "    </tr>\n",
              "  </tbody>\n",
              "</table>\n",
              "</div>\n",
              "      <button class=\"colab-df-convert\" onclick=\"convertToInteractive('df-e1553a66-c654-4ad9-8a66-29127ad7900b')\"\n",
              "              title=\"Convert this dataframe to an interactive table.\"\n",
              "              style=\"display:none;\">\n",
              "        \n",
              "  <svg xmlns=\"http://www.w3.org/2000/svg\" height=\"24px\"viewBox=\"0 0 24 24\"\n",
              "       width=\"24px\">\n",
              "    <path d=\"M0 0h24v24H0V0z\" fill=\"none\"/>\n",
              "    <path d=\"M18.56 5.44l.94 2.06.94-2.06 2.06-.94-2.06-.94-.94-2.06-.94 2.06-2.06.94zm-11 1L8.5 8.5l.94-2.06 2.06-.94-2.06-.94L8.5 2.5l-.94 2.06-2.06.94zm10 10l.94 2.06.94-2.06 2.06-.94-2.06-.94-.94-2.06-.94 2.06-2.06.94z\"/><path d=\"M17.41 7.96l-1.37-1.37c-.4-.4-.92-.59-1.43-.59-.52 0-1.04.2-1.43.59L10.3 9.45l-7.72 7.72c-.78.78-.78 2.05 0 2.83L4 21.41c.39.39.9.59 1.41.59.51 0 1.02-.2 1.41-.59l7.78-7.78 2.81-2.81c.8-.78.8-2.07 0-2.86zM5.41 20L4 18.59l7.72-7.72 1.47 1.35L5.41 20z\"/>\n",
              "  </svg>\n",
              "      </button>\n",
              "      \n",
              "  <style>\n",
              "    .colab-df-container {\n",
              "      display:flex;\n",
              "      flex-wrap:wrap;\n",
              "      gap: 12px;\n",
              "    }\n",
              "\n",
              "    .colab-df-convert {\n",
              "      background-color: #E8F0FE;\n",
              "      border: none;\n",
              "      border-radius: 50%;\n",
              "      cursor: pointer;\n",
              "      display: none;\n",
              "      fill: #1967D2;\n",
              "      height: 32px;\n",
              "      padding: 0 0 0 0;\n",
              "      width: 32px;\n",
              "    }\n",
              "\n",
              "    .colab-df-convert:hover {\n",
              "      background-color: #E2EBFA;\n",
              "      box-shadow: 0px 1px 2px rgba(60, 64, 67, 0.3), 0px 1px 3px 1px rgba(60, 64, 67, 0.15);\n",
              "      fill: #174EA6;\n",
              "    }\n",
              "\n",
              "    [theme=dark] .colab-df-convert {\n",
              "      background-color: #3B4455;\n",
              "      fill: #D2E3FC;\n",
              "    }\n",
              "\n",
              "    [theme=dark] .colab-df-convert:hover {\n",
              "      background-color: #434B5C;\n",
              "      box-shadow: 0px 1px 3px 1px rgba(0, 0, 0, 0.15);\n",
              "      filter: drop-shadow(0px 1px 2px rgba(0, 0, 0, 0.3));\n",
              "      fill: #FFFFFF;\n",
              "    }\n",
              "  </style>\n",
              "\n",
              "      <script>\n",
              "        const buttonEl =\n",
              "          document.querySelector('#df-e1553a66-c654-4ad9-8a66-29127ad7900b button.colab-df-convert');\n",
              "        buttonEl.style.display =\n",
              "          google.colab.kernel.accessAllowed ? 'block' : 'none';\n",
              "\n",
              "        async function convertToInteractive(key) {\n",
              "          const element = document.querySelector('#df-e1553a66-c654-4ad9-8a66-29127ad7900b');\n",
              "          const dataTable =\n",
              "            await google.colab.kernel.invokeFunction('convertToInteractive',\n",
              "                                                     [key], {});\n",
              "          if (!dataTable) return;\n",
              "\n",
              "          const docLinkHtml = 'Like what you see? Visit the ' +\n",
              "            '<a target=\"_blank\" href=https://colab.research.google.com/notebooks/data_table.ipynb>data table notebook</a>'\n",
              "            + ' to learn more about interactive tables.';\n",
              "          element.innerHTML = '';\n",
              "          dataTable['output_type'] = 'display_data';\n",
              "          await google.colab.output.renderOutput(dataTable, element);\n",
              "          const docLink = document.createElement('div');\n",
              "          docLink.innerHTML = docLinkHtml;\n",
              "          element.appendChild(docLink);\n",
              "        }\n",
              "      </script>\n",
              "    </div>\n",
              "  </div>\n",
              "  "
            ]
          },
          "metadata": {},
          "execution_count": 7
        }
      ]
    },
    {
      "cell_type": "code",
      "source": [
        "sd_train['Property_Area'].value_counts()"
      ],
      "metadata": {
        "colab": {
          "base_uri": "https://localhost:8080/"
        },
        "id": "SpKZdOZ2GrGX",
        "outputId": "a647c952-5ae0-4669-d8f8-1e769178df9c"
      },
      "execution_count": null,
      "outputs": [
        {
          "output_type": "execute_result",
          "data": {
            "text/plain": [
              "Semiurban    233\n",
              "Urban        202\n",
              "Rural        179\n",
              "Name: Property_Area, dtype: int64"
            ]
          },
          "metadata": {},
          "execution_count": 8
        }
      ]
    },
    {
      "cell_type": "markdown",
      "source": [
        "# **Understanding the Distribution of Numerical Variables:**\n",
        "\n",
        "* ApplicantIncome\n",
        "* LoanAmount"
      ],
      "metadata": {
        "id": "HrQPyBrxHmHm"
      }
    },
    {
      "cell_type": "code",
      "source": [
        "%matplotlib inline"
      ],
      "metadata": {
        "id": "ojpocEFSImNf"
      },
      "execution_count": null,
      "outputs": []
    },
    {
      "cell_type": "code",
      "source": [
        "sd_train['ApplicantIncome'].hist"
      ],
      "metadata": {
        "colab": {
          "base_uri": "https://localhost:8080/"
        },
        "id": "Y4sDsIY0G-vW",
        "outputId": "6ea4798d-0ddf-4d48-f2b9-16dcf95fb0f8"
      },
      "execution_count": null,
      "outputs": [
        {
          "output_type": "execute_result",
          "data": {
            "text/plain": [
              "<bound method hist_series of 0      5849\n",
              "1      4583\n",
              "2      3000\n",
              "3      2583\n",
              "4      6000\n",
              "       ... \n",
              "609    2900\n",
              "610    4106\n",
              "611    8072\n",
              "612    7583\n",
              "613    4583\n",
              "Name: ApplicantIncome, Length: 614, dtype: int64>"
            ]
          },
          "metadata": {},
          "execution_count": 10
        }
      ]
    },
    {
      "cell_type": "code",
      "source": [
        "sd_train.boxplot(column='ApplicantIncome')"
      ],
      "metadata": {
        "colab": {
          "base_uri": "https://localhost:8080/",
          "height": 282
        },
        "id": "MQViQ2zuIwD0",
        "outputId": "a5d84e6a-d2cf-4a57-c0ae-79015f060df1"
      },
      "execution_count": null,
      "outputs": [
        {
          "output_type": "execute_result",
          "data": {
            "text/plain": [
              "<matplotlib.axes._subplots.AxesSubplot at 0x7fed498df1d0>"
            ]
          },
          "metadata": {},
          "execution_count": 11
        },
        {
          "output_type": "display_data",
          "data": {
            "text/plain": [
              "<Figure size 432x288 with 1 Axes>"
            ],
            "image/png": "[encoded data removed]"
          },
          "metadata": {
            "needs_background": "light"
          }
        }
      ]
    },
    {
      "cell_type": "markdown",
      "source": [
        "# The above Box Plot confirms the presence of a lot of outliers/extreme values. This can be attributed to the income disparity in the society. "
      ],
      "metadata": {
        "id": "PniquwgqLaEl"
      }
    },
    {
      "cell_type": "code",
      "source": [
        "sd_train.boxplot(column='ApplicantIncome', by='Education')"
      ],
      "metadata": {
        "colab": {
          "base_uri": "https://localhost:8080/",
          "height": 373
        },
        "id": "dQE_FTboJEVN",
        "outputId": "fafdff9a-fd06-457b-f060-ae4e4ccf489b"
      },
      "execution_count": null,
      "outputs": [
        {
          "output_type": "stream",
          "name": "stderr",
          "text": [
            "/usr/local/lib/python3.7/dist-packages/matplotlib/cbook/__init__.py:1376: VisibleDeprecationWarning: Creating an ndarray from ragged nested sequences (which is a list-or-tuple of lists-or-tuples-or ndarrays with different lengths or shapes) is deprecated. If you meant to do this, you must specify 'dtype=object' when creating the ndarray.\n",
            "  X = np.atleast_1d(X.T if isinstance(X, np.ndarray) else np.asarray(X))\n"
          ]
        },
        {
          "output_type": "execute_result",
          "data": {
            "text/plain": [
              "<matplotlib.axes._subplots.AxesSubplot at 0x7fed498333d0>"
            ]
          },
          "metadata": {},
          "execution_count": 12
        },
        {
          "output_type": "display_data",
          "data": {
            "text/plain": [
              "<Figure size 432x288 with 1 Axes>"
            ],
            "image/png": "[encoded data removed]"
          },
          "metadata": {
            "needs_background": "light"
          }
        }
      ]
    },
    {
      "cell_type": "markdown",
      "source": [
        "# ** We can see that there is no substantial different between the mean income of graduate and non-graduates. But graduates with a very high incomes are appearing to be the outliers **"
      ],
      "metadata": {
        "id": "pXaFXHQsL3HV"
      }
    },
    {
      "cell_type": "code",
      "source": [
        "sd_train['LoanAmount'].hist(bins=20)"
      ],
      "metadata": {
        "colab": {
          "base_uri": "https://localhost:8080/"
        },
        "id": "UqG3LZ91Kz6X",
        "outputId": "a139d26e-5a22-4ef7-aa21-b00b099a3d97"
      },
      "execution_count": null,
      "outputs": [
        {
          "output_type": "execute_result",
          "data": {
            "text/plain": [
              "<matplotlib.axes._subplots.AxesSubplot at 0x7fed4b415810>"
            ]
          },
          "metadata": {},
          "execution_count": 13
        },
        {
          "output_type": "display_data",
          "data": {
            "text/plain": [
              "<Figure size 432x288 with 1 Axes>"
            ],
            "image/png": "[encoded data removed]"
          },
          "metadata": {
            "needs_background": "light"
          }
        }
      ]
    },
    {
      "cell_type": "code",
      "source": [
        "sd_train.boxplot(column='LoanAmount', by='Gender')"
      ],
      "metadata": {
        "colab": {
          "base_uri": "https://localhost:8080/"
        },
        "id": "LE5c447aLIFs",
        "outputId": "abbc6852-e044-4088-e85a-21a626c6ea0e"
      },
      "execution_count": null,
      "outputs": [
        {
          "output_type": "stream",
          "name": "stderr",
          "text": [
            "/usr/local/lib/python3.7/dist-packages/matplotlib/cbook/__init__.py:1376: VisibleDeprecationWarning: Creating an ndarray from ragged nested sequences (which is a list-or-tuple of lists-or-tuples-or ndarrays with different lengths or shapes) is deprecated. If you meant to do this, you must specify 'dtype=object' when creating the ndarray.\n",
            "  X = np.atleast_1d(X.T if isinstance(X, np.ndarray) else np.asarray(X))\n"
          ]
        },
        {
          "output_type": "execute_result",
          "data": {
            "text/plain": [
              "<matplotlib.axes._subplots.AxesSubplot at 0x7fed4921b210>"
            ]
          },
          "metadata": {},
          "execution_count": 14
        },
        {
          "output_type": "display_data",
          "data": {
            "text/plain": [
              "<Figure size 432x288 with 1 Axes>"
            ],
            "image/png": "[encoded data removed]"
          },
          "metadata": {
            "needs_background": "light"
          }
        }
      ]
    },
    {
      "cell_type": "markdown",
      "source": [
        "# LoanAmount has missing as well as extreme values, while ApplicantIncome has a few extreme values."
      ],
      "metadata": {
        "id": "EaK90WdPOmqy"
      }
    },
    {
      "cell_type": "markdown",
      "source": [
        "# ***Understanding Distribution of Categorical Variables***"
      ],
      "metadata": {
        "id": "qTkl1_8MPWk8"
      }
    },
    {
      "cell_type": "code",
      "source": [
        "# Loan approval rates in absolute numbers\n",
        "loan_app=sd_train['Loan_Status'].value_counts()['Y']\n",
        "print(loan_app)\n"
      ],
      "metadata": {
        "colab": {
          "base_uri": "https://localhost:8080/"
        },
        "id": "sswLY4RTMmHE",
        "outputId": "7bcca454-12c8-4b9b-85c6-e81cf9f581b2"
      },
      "execution_count": null,
      "outputs": [
        {
          "output_type": "stream",
          "name": "stdout",
          "text": [
            "422\n"
          ]
        }
      ]
    },
    {
      "cell_type": "markdown",
      "source": [
        "# **Credit History and Loan Status**"
      ],
      "metadata": {
        "id": "5PWjfArvRS36"
      }
    },
    {
      "cell_type": "code",
      "source": [
        "pd.crosstab(sd_train['Credit_History'] , sd_train['Loan_Status'],margins=True)"
      ],
      "metadata": {
        "colab": {
          "base_uri": "https://localhost:8080/",
          "height": 175
        },
        "id": "X4DEA_HIQdTD",
        "outputId": "0bc99c3b-d79d-4072-c7f2-c2fce24540ed"
      },
      "execution_count": null,
      "outputs": [
        {
          "output_type": "execute_result",
          "data": {
            "text/plain": [
              "Loan_Status       N    Y  All\n",
              "Credit_History               \n",
              "0.0              82    7   89\n",
              "1.0              97  378  475\n",
              "All             179  385  564"
            ],
            "text/html": [
              "\n",
              "  <div id=\"df-4cb7fd5c-87a3-4cbf-a9b1-6e391e9a1c58\">\n",
              "    <div class=\"colab-df-container\">\n",
              "      <div>\n",
              "<style scoped>\n",
              "    .dataframe tbody tr th:only-of-type {\n",
              "        vertical-align: middle;\n",
              "    }\n",
              "\n",
              "    .dataframe tbody tr th {\n",
              "        vertical-align: top;\n",
              "    }\n",
              "\n",
              "    .dataframe thead th {\n",
              "        text-align: right;\n",
              "    }\n",
              "</style>\n",
              "<table border=\"1\" class=\"dataframe\">\n",
              "  <thead>\n",
              "    <tr style=\"text-align: right;\">\n",
              "      <th>Loan_Status</th>\n",
              "      <th>N</th>\n",
              "      <th>Y</th>\n",
              "      <th>All</th>\n",
              "    </tr>\n",
              "    <tr>\n",
              "      <th>Credit_History</th>\n",
              "      <th></th>\n",
              "      <th></th>\n",
              "      <th></th>\n",
              "    </tr>\n",
              "  </thead>\n",
              "  <tbody>\n",
              "    <tr>\n",
              "      <th>0.0</th>\n",
              "      <td>82</td>\n",
              "      <td>7</td>\n",
              "      <td>89</td>\n",
              "    </tr>\n",
              "    <tr>\n",
              "      <th>1.0</th>\n",
              "      <td>97</td>\n",
              "      <td>378</td>\n",
              "      <td>475</td>\n",
              "    </tr>\n",
              "    <tr>\n",
              "      <th>All</th>\n",
              "      <td>179</td>\n",
              "      <td>385</td>\n",
              "      <td>564</td>\n",
              "    </tr>\n",
              "  </tbody>\n",
              "</table>\n",
              "</div>\n",
              "      <button class=\"colab-df-convert\" onclick=\"convertToInteractive('df-4cb7fd5c-87a3-4cbf-a9b1-6e391e9a1c58')\"\n",
              "              title=\"Convert this dataframe to an interactive table.\"\n",
              "              style=\"display:none;\">\n",
              "        \n",
              "  <svg xmlns=\"http://www.w3.org/2000/svg\" height=\"24px\"viewBox=\"0 0 24 24\"\n",
              "       width=\"24px\">\n",
              "    <path d=\"M0 0h24v24H0V0z\" fill=\"none\"/>\n",
              "    <path d=\"M18.56 5.44l.94 2.06.94-2.06 2.06-.94-2.06-.94-.94-2.06-.94 2.06-2.06.94zm-11 1L8.5 8.5l.94-2.06 2.06-.94-2.06-.94L8.5 2.5l-.94 2.06-2.06.94zm10 10l.94 2.06.94-2.06 2.06-.94-2.06-.94-.94-2.06-.94 2.06-2.06.94z\"/><path d=\"M17.41 7.96l-1.37-1.37c-.4-.4-.92-.59-1.43-.59-.52 0-1.04.2-1.43.59L10.3 9.45l-7.72 7.72c-.78.78-.78 2.05 0 2.83L4 21.41c.39.39.9.59 1.41.59.51 0 1.02-.2 1.41-.59l7.78-7.78 2.81-2.81c.8-.78.8-2.07 0-2.86zM5.41 20L4 18.59l7.72-7.72 1.47 1.35L5.41 20z\"/>\n",
              "  </svg>\n",
              "      </button>\n",
              "      \n",
              "  <style>\n",
              "    .colab-df-container {\n",
              "      display:flex;\n",
              "      flex-wrap:wrap;\n",
              "      gap: 12px;\n",
              "    }\n",
              "\n",
              "    .colab-df-convert {\n",
              "      background-color: #E8F0FE;\n",
              "      border: none;\n",
              "      border-radius: 50%;\n",
              "      cursor: pointer;\n",
              "      display: none;\n",
              "      fill: #1967D2;\n",
              "      height: 32px;\n",
              "      padding: 0 0 0 0;\n",
              "      width: 32px;\n",
              "    }\n",
              "\n",
              "    .colab-df-convert:hover {\n",
              "      background-color: #E2EBFA;\n",
              "      box-shadow: 0px 1px 2px rgba(60, 64, 67, 0.3), 0px 1px 3px 1px rgba(60, 64, 67, 0.15);\n",
              "      fill: #174EA6;\n",
              "    }\n",
              "\n",
              "    [theme=dark] .colab-df-convert {\n",
              "      background-color: #3B4455;\n",
              "      fill: #D2E3FC;\n",
              "    }\n",
              "\n",
              "    [theme=dark] .colab-df-convert:hover {\n",
              "      background-color: #434B5C;\n",
              "      box-shadow: 0px 1px 3px 1px rgba(0, 0, 0, 0.15);\n",
              "      filter: drop-shadow(0px 1px 2px rgba(0, 0, 0, 0.3));\n",
              "      fill: #FFFFFF;\n",
              "    }\n",
              "  </style>\n",
              "\n",
              "      <script>\n",
              "        const buttonEl =\n",
              "          document.querySelector('#df-4cb7fd5c-87a3-4cbf-a9b1-6e391e9a1c58 button.colab-df-convert');\n",
              "        buttonEl.style.display =\n",
              "          google.colab.kernel.accessAllowed ? 'block' : 'none';\n",
              "\n",
              "        async function convertToInteractive(key) {\n",
              "          const element = document.querySelector('#df-4cb7fd5c-87a3-4cbf-a9b1-6e391e9a1c58');\n",
              "          const dataTable =\n",
              "            await google.colab.kernel.invokeFunction('convertToInteractive',\n",
              "                                                     [key], {});\n",
              "          if (!dataTable) return;\n",
              "\n",
              "          const docLinkHtml = 'Like what you see? Visit the ' +\n",
              "            '<a target=\"_blank\" href=https://colab.research.google.com/notebooks/data_table.ipynb>data table notebook</a>'\n",
              "            + ' to learn more about interactive tables.';\n",
              "          element.innerHTML = '';\n",
              "          dataTable['output_type'] = 'display_data';\n",
              "          await google.colab.output.renderOutput(dataTable, element);\n",
              "          const docLink = document.createElement('div');\n",
              "          docLink.innerHTML = docLinkHtml;\n",
              "          element.appendChild(docLink);\n",
              "        }\n",
              "      </script>\n",
              "    </div>\n",
              "  </div>\n",
              "  "
            ]
          },
          "metadata": {},
          "execution_count": 16
        }
      ]
    },
    {
      "cell_type": "code",
      "source": [
        "sd_train.isnull().sum()"
      ],
      "metadata": {
        "id": "lOuZeIkzTUBg",
        "colab": {
          "base_uri": "https://localhost:8080/"
        },
        "outputId": "5226470a-9f21-4b05-b430-7712952b6036"
      },
      "execution_count": null,
      "outputs": [
        {
          "output_type": "execute_result",
          "data": {
            "text/plain": [
              "Loan_ID               0\n",
              "Gender               13\n",
              "Married               3\n",
              "Dependents           15\n",
              "Education             0\n",
              "Self_Employed        32\n",
              "ApplicantIncome       0\n",
              "CoapplicantIncome     0\n",
              "LoanAmount           22\n",
              "Loan_Amount_Term     14\n",
              "Credit_History       50\n",
              "Property_Area         0\n",
              "Loan_Status           0\n",
              "dtype: int64"
            ]
          },
          "metadata": {},
          "execution_count": 17
        }
      ]
    },
    {
      "cell_type": "code",
      "source": [
        "sd_train['Gender'].fillna(sd_train['Gender'].mode()[0],inplace=True)"
      ],
      "metadata": {
        "id": "bDJSFkLFPRUJ"
      },
      "execution_count": null,
      "outputs": []
    },
    {
      "cell_type": "code",
      "source": [
        "sd_train['Married'].fillna(sd_train['Married'].mode()[0],inplace=True)"
      ],
      "metadata": {
        "id": "gFhUD-PDRTly"
      },
      "execution_count": null,
      "outputs": []
    },
    {
      "cell_type": "code",
      "source": [
        "sd_train['Dependents'].fillna(sd_train['Dependents'].mode()[0],inplace=True)"
      ],
      "metadata": {
        "id": "vQfDhqI4RVQh"
      },
      "execution_count": null,
      "outputs": []
    },
    {
      "cell_type": "code",
      "source": [
        "sd_train['Self_Employed'].fillna(sd_train['Self_Employed'].mode()[0],inplace=True)"
      ],
      "metadata": {
        "id": "rhM1Pk1LRVeI"
      },
      "execution_count": null,
      "outputs": []
    },
    {
      "cell_type": "code",
      "source": [
        "sd_train.LoanAmount = sd_train.LoanAmount.fillna(sd_train.LoanAmount.mean())"
      ],
      "metadata": {
        "id": "gA7qlZX-RYqJ"
      },
      "execution_count": null,
      "outputs": []
    },
    {
      "cell_type": "code",
      "source": [
        "sd_train.Loan_Amount_Term = sd_train.Loan_Amount_Term.fillna(sd_train.Loan_Amount_Term.mean())"
      ],
      "metadata": {
        "id": "xhAKGrC5RZKJ"
      },
      "execution_count": null,
      "outputs": []
    },
    {
      "cell_type": "code",
      "source": [
        "sd_train.Credit_History = sd_train.Credit_History.fillna(sd_train.Credit_History.mean())"
      ],
      "metadata": {
        "id": "HoM7HAm_RZbo"
      },
      "execution_count": null,
      "outputs": []
    },
    {
      "cell_type": "code",
      "source": [
        "sd_train.isnull().sum()"
      ],
      "metadata": {
        "colab": {
          "base_uri": "https://localhost:8080/"
        },
        "id": "SYYZM0IlPtu4",
        "outputId": "191e6b51-8b88-49be-f609-fb9438e86e2b"
      },
      "execution_count": null,
      "outputs": [
        {
          "output_type": "execute_result",
          "data": {
            "text/plain": [
              "Loan_ID              0\n",
              "Gender               0\n",
              "Married              0\n",
              "Dependents           0\n",
              "Education            0\n",
              "Self_Employed        0\n",
              "ApplicantIncome      0\n",
              "CoapplicantIncome    0\n",
              "LoanAmount           0\n",
              "Loan_Amount_Term     0\n",
              "Credit_History       0\n",
              "Property_Area        0\n",
              "Loan_Status          0\n",
              "dtype: int64"
            ]
          },
          "metadata": {},
          "execution_count": 25
        }
      ]
    },
    {
      "cell_type": "code",
      "source": [
        "sd_train['Total_Income'] = sd_train['ApplicantIncome'] + sd_train['CoapplicantIncome']"
      ],
      "metadata": {
        "id": "auSGSzRTQJ1I"
      },
      "execution_count": null,
      "outputs": []
    },
    {
      "cell_type": "code",
      "source": [
        "sd_train['Total_Income_log'] = np.log(sd_train['Total_Income'])"
      ],
      "metadata": {
        "id": "HHE1jRF6VIZN"
      },
      "execution_count": null,
      "outputs": []
    },
    {
      "cell_type": "code",
      "source": [
        "sd_train['Total_Income_log'].hist(bins=20)"
      ],
      "metadata": {
        "colab": {
          "base_uri": "https://localhost:8080/",
          "height": 282
        },
        "id": "qxqN4oeMWXqH",
        "outputId": "e2bd2b1d-ac6a-475c-b081-11affb945a23"
      },
      "execution_count": null,
      "outputs": [
        {
          "output_type": "execute_result",
          "data": {
            "text/plain": [
              "<matplotlib.axes._subplots.AxesSubplot at 0x7fed490f2b90>"
            ]
          },
          "metadata": {},
          "execution_count": 28
        },
        {
          "output_type": "display_data",
          "data": {
            "text/plain": [
              "<Figure size 432x288 with 1 Axes>"
            ],
            "image/png": "[encoded data removed]"
          },
          "metadata": {
            "needs_background": "light"
          }
        }
      ]
    },
    {
      "cell_type": "code",
      "source": [
        "sd_train.head()"
      ],
      "metadata": {
        "colab": {
          "base_uri": "https://localhost:8080/",
          "height": 287
        },
        "id": "9wQd5qg9WmSl",
        "outputId": "6488545d-eda4-4365-dcc1-e3c97a5beebd"
      },
      "execution_count": null,
      "outputs": [
        {
          "output_type": "execute_result",
          "data": {
            "text/plain": [
              "    Loan_ID Gender Married Dependents     Education Self_Employed  \\\n",
              "0  LP001002   Male      No          0      Graduate            No   \n",
              "1  LP001003   Male     Yes          1      Graduate            No   \n",
              "2  LP001005   Male     Yes          0      Graduate           Yes   \n",
              "3  LP001006   Male     Yes          0  Not Graduate            No   \n",
              "4  LP001008   Male      No          0      Graduate            No   \n",
              "\n",
              "   ApplicantIncome  CoapplicantIncome  LoanAmount  Loan_Amount_Term  \\\n",
              "0             5849                0.0  146.412162             360.0   \n",
              "1             4583             1508.0  128.000000             360.0   \n",
              "2             3000                0.0   66.000000             360.0   \n",
              "3             2583             2358.0  120.000000             360.0   \n",
              "4             6000                0.0  141.000000             360.0   \n",
              "\n",
              "   Credit_History Property_Area Loan_Status  Total_Income  Total_Income_log  \n",
              "0             1.0         Urban           Y        5849.0          8.674026  \n",
              "1             1.0         Rural           N        6091.0          8.714568  \n",
              "2             1.0         Urban           Y        3000.0          8.006368  \n",
              "3             1.0         Urban           Y        4941.0          8.505323  \n",
              "4             1.0         Urban           Y        6000.0          8.699515  "
            ],
            "text/html": [
              "\n",
              "  <div id=\"df-89eeabf9-9857-4c4b-a897-3838ae8f9ab5\">\n",
              "    <div class=\"colab-df-container\">\n",
              "      <div>\n",
              "<style scoped>\n",
              "    .dataframe tbody tr th:only-of-type {\n",
              "        vertical-align: middle;\n",
              "    }\n",
              "\n",
              "    .dataframe tbody tr th {\n",
              "        vertical-align: top;\n",
              "    }\n",
              "\n",
              "    .dataframe thead th {\n",
              "        text-align: right;\n",
              "    }\n",
              "</style>\n",
              "<table border=\"1\" class=\"dataframe\">\n",
              "  <thead>\n",
              "    <tr style=\"text-align: right;\">\n",
              "      <th></th>\n",
              "      <th>Loan_ID</th>\n",
              "      <th>Gender</th>\n",
              "      <th>Married</th>\n",
              "      <th>Dependents</th>\n",
              "      <th>Education</th>\n",
              "      <th>Self_Employed</th>\n",
              "      <th>ApplicantIncome</th>\n",
              "      <th>CoapplicantIncome</th>\n",
              "      <th>LoanAmount</th>\n",
              "      <th>Loan_Amount_Term</th>\n",
              "      <th>Credit_History</th>\n",
              "      <th>Property_Area</th>\n",
              "      <th>Loan_Status</th>\n",
              "      <th>Total_Income</th>\n",
              "      <th>Total_Income_log</th>\n",
              "    </tr>\n",
              "  </thead>\n",
              "  <tbody>\n",
              "    <tr>\n",
              "      <th>0</th>\n",
              "      <td>LP001002</td>\n",
              "      <td>Male</td>\n",
              "      <td>No</td>\n",
              "      <td>0</td>\n",
              "      <td>Graduate</td>\n",
              "      <td>No</td>\n",
              "      <td>5849</td>\n",
              "      <td>0.0</td>\n",
              "      <td>146.412162</td>\n",
              "      <td>360.0</td>\n",
              "      <td>1.0</td>\n",
              "      <td>Urban</td>\n",
              "      <td>Y</td>\n",
              "      <td>5849.0</td>\n",
              "      <td>8.674026</td>\n",
              "    </tr>\n",
              "    <tr>\n",
              "      <th>1</th>\n",
              "      <td>LP001003</td>\n",
              "      <td>Male</td>\n",
              "      <td>Yes</td>\n",
              "      <td>1</td>\n",
              "      <td>Graduate</td>\n",
              "      <td>No</td>\n",
              "      <td>4583</td>\n",
              "      <td>1508.0</td>\n",
              "      <td>128.000000</td>\n",
              "      <td>360.0</td>\n",
              "      <td>1.0</td>\n",
              "      <td>Rural</td>\n",
              "      <td>N</td>\n",
              "      <td>6091.0</td>\n",
              "      <td>8.714568</td>\n",
              "    </tr>\n",
              "    <tr>\n",
              "      <th>2</th>\n",
              "      <td>LP001005</td>\n",
              "      <td>Male</td>\n",
              "      <td>Yes</td>\n",
              "      <td>0</td>\n",
              "      <td>Graduate</td>\n",
              "      <td>Yes</td>\n",
              "      <td>3000</td>\n",
              "      <td>0.0</td>\n",
              "      <td>66.000000</td>\n",
              "      <td>360.0</td>\n",
              "      <td>1.0</td>\n",
              "      <td>Urban</td>\n",
              "      <td>Y</td>\n",
              "      <td>3000.0</td>\n",
              "      <td>8.006368</td>\n",
              "    </tr>\n",
              "    <tr>\n",
              "      <th>3</th>\n",
              "      <td>LP001006</td>\n",
              "      <td>Male</td>\n",
              "      <td>Yes</td>\n",
              "      <td>0</td>\n",
              "      <td>Not Graduate</td>\n",
              "      <td>No</td>\n",
              "      <td>2583</td>\n",
              "      <td>2358.0</td>\n",
              "      <td>120.000000</td>\n",
              "      <td>360.0</td>\n",
              "      <td>1.0</td>\n",
              "      <td>Urban</td>\n",
              "      <td>Y</td>\n",
              "      <td>4941.0</td>\n",
              "      <td>8.505323</td>\n",
              "    </tr>\n",
              "    <tr>\n",
              "      <th>4</th>\n",
              "      <td>LP001008</td>\n",
              "      <td>Male</td>\n",
              "      <td>No</td>\n",
              "      <td>0</td>\n",
              "      <td>Graduate</td>\n",
              "      <td>No</td>\n",
              "      <td>6000</td>\n",
              "      <td>0.0</td>\n",
              "      <td>141.000000</td>\n",
              "      <td>360.0</td>\n",
              "      <td>1.0</td>\n",
              "      <td>Urban</td>\n",
              "      <td>Y</td>\n",
              "      <td>6000.0</td>\n",
              "      <td>8.699515</td>\n",
              "    </tr>\n",
              "  </tbody>\n",
              "</table>\n",
              "</div>\n",
              "      <button class=\"colab-df-convert\" onclick=\"convertToInteractive('df-89eeabf9-9857-4c4b-a897-3838ae8f9ab5')\"\n",
              "              title=\"Convert this dataframe to an interactive table.\"\n",
              "              style=\"display:none;\">\n",
              "        \n",
              "  <svg xmlns=\"http://www.w3.org/2000/svg\" height=\"24px\"viewBox=\"0 0 24 24\"\n",
              "       width=\"24px\">\n",
              "    <path d=\"M0 0h24v24H0V0z\" fill=\"none\"/>\n",
              "    <path d=\"M18.56 5.44l.94 2.06.94-2.06 2.06-.94-2.06-.94-.94-2.06-.94 2.06-2.06.94zm-11 1L8.5 8.5l.94-2.06 2.06-.94-2.06-.94L8.5 2.5l-.94 2.06-2.06.94zm10 10l.94 2.06.94-2.06 2.06-.94-2.06-.94-.94-2.06-.94 2.06-2.06.94z\"/><path d=\"M17.41 7.96l-1.37-1.37c-.4-.4-.92-.59-1.43-.59-.52 0-1.04.2-1.43.59L10.3 9.45l-7.72 7.72c-.78.78-.78 2.05 0 2.83L4 21.41c.39.39.9.59 1.41.59.51 0 1.02-.2 1.41-.59l7.78-7.78 2.81-2.81c.8-.78.8-2.07 0-2.86zM5.41 20L4 18.59l7.72-7.72 1.47 1.35L5.41 20z\"/>\n",
              "  </svg>\n",
              "      </button>\n",
              "      \n",
              "  <style>\n",
              "    .colab-df-container {\n",
              "      display:flex;\n",
              "      flex-wrap:wrap;\n",
              "      gap: 12px;\n",
              "    }\n",
              "\n",
              "    .colab-df-convert {\n",
              "      background-color: #E8F0FE;\n",
              "      border: none;\n",
              "      border-radius: 50%;\n",
              "      cursor: pointer;\n",
              "      display: none;\n",
              "      fill: #1967D2;\n",
              "      height: 32px;\n",
              "      padding: 0 0 0 0;\n",
              "      width: 32px;\n",
              "    }\n",
              "\n",
              "    .colab-df-convert:hover {\n",
              "      background-color: #E2EBFA;\n",
              "      box-shadow: 0px 1px 2px rgba(60, 64, 67, 0.3), 0px 1px 3px 1px rgba(60, 64, 67, 0.15);\n",
              "      fill: #174EA6;\n",
              "    }\n",
              "\n",
              "    [theme=dark] .colab-df-convert {\n",
              "      background-color: #3B4455;\n",
              "      fill: #D2E3FC;\n",
              "    }\n",
              "\n",
              "    [theme=dark] .colab-df-convert:hover {\n",
              "      background-color: #434B5C;\n",
              "      box-shadow: 0px 1px 3px 1px rgba(0, 0, 0, 0.15);\n",
              "      filter: drop-shadow(0px 1px 2px rgba(0, 0, 0, 0.3));\n",
              "      fill: #FFFFFF;\n",
              "    }\n",
              "  </style>\n",
              "\n",
              "      <script>\n",
              "        const buttonEl =\n",
              "          document.querySelector('#df-89eeabf9-9857-4c4b-a897-3838ae8f9ab5 button.colab-df-convert');\n",
              "        buttonEl.style.display =\n",
              "          google.colab.kernel.accessAllowed ? 'block' : 'none';\n",
              "\n",
              "        async function convertToInteractive(key) {\n",
              "          const element = document.querySelector('#df-89eeabf9-9857-4c4b-a897-3838ae8f9ab5');\n",
              "          const dataTable =\n",
              "            await google.colab.kernel.invokeFunction('convertToInteractive',\n",
              "                                                     [key], {});\n",
              "          if (!dataTable) return;\n",
              "\n",
              "          const docLinkHtml = 'Like what you see? Visit the ' +\n",
              "            '<a target=\"_blank\" href=https://colab.research.google.com/notebooks/data_table.ipynb>data table notebook</a>'\n",
              "            + ' to learn more about interactive tables.';\n",
              "          element.innerHTML = '';\n",
              "          dataTable['output_type'] = 'display_data';\n",
              "          await google.colab.output.renderOutput(dataTable, element);\n",
              "          const docLink = document.createElement('div');\n",
              "          docLink.innerHTML = docLinkHtml;\n",
              "          element.appendChild(docLink);\n",
              "        }\n",
              "      </script>\n",
              "    </div>\n",
              "  </div>\n",
              "  "
            ]
          },
          "metadata": {},
          "execution_count": 29
        }
      ]
    },
    {
      "cell_type": "code",
      "source": [
        "X = sd_train.iloc[:,np.r_[1:5,9:11,13:15]].values\n",
        "X"
      ],
      "metadata": {
        "colab": {
          "base_uri": "https://localhost:8080/"
        },
        "id": "rkTVka18Xf2k",
        "outputId": "f9ad7068-d1bc-42d9-c807-a8f383b2a6d8"
      },
      "execution_count": null,
      "outputs": [
        {
          "output_type": "execute_result",
          "data": {
            "text/plain": [
              "array([['Male', 'No', '0', ..., 1.0, 5849.0, 8.674025985443025],\n",
              "       ['Male', 'Yes', '1', ..., 1.0, 6091.0, 8.714567550836485],\n",
              "       ['Male', 'Yes', '0', ..., 1.0, 3000.0, 8.006367567650246],\n",
              "       ...,\n",
              "       ['Male', 'Yes', '1', ..., 1.0, 8312.0, 9.025455532779063],\n",
              "       ['Male', 'Yes', '2', ..., 1.0, 7583.0, 8.933664178700935],\n",
              "       ['Female', 'No', '0', ..., 0.0, 4583.0, 8.430109084509125]],\n",
              "      dtype=object)"
            ]
          },
          "metadata": {},
          "execution_count": 30
        }
      ]
    },
    {
      "cell_type": "code",
      "source": [
        "Y = sd_train.iloc[:,12].values"
      ],
      "metadata": {
        "id": "AVy6MpfkZdQM"
      },
      "execution_count": null,
      "outputs": []
    },
    {
      "cell_type": "code",
      "source": [
        "Y"
      ],
      "metadata": {
        "colab": {
          "base_uri": "https://localhost:8080/"
        },
        "id": "eBYg60XHcB7N",
        "outputId": "8050efe3-1b00-4027-a217-cce5c02617d6"
      },
      "execution_count": null,
      "outputs": [
        {
          "output_type": "execute_result",
          "data": {
            "text/plain": [
              "array(['Y', 'N', 'Y', 'Y', 'Y', 'Y', 'Y', 'N', 'Y', 'N', 'Y', 'Y', 'Y',\n",
              "       'N', 'Y', 'Y', 'Y', 'N', 'N', 'Y', 'N', 'Y', 'N', 'N', 'N', 'Y',\n",
              "       'Y', 'Y', 'N', 'Y', 'N', 'N', 'N', 'Y', 'N', 'Y', 'N', 'Y', 'Y',\n",
              "       'Y', 'N', 'Y', 'Y', 'Y', 'Y', 'Y', 'Y', 'Y', 'N', 'Y', 'Y', 'Y',\n",
              "       'N', 'N', 'N', 'Y', 'Y', 'N', 'Y', 'Y', 'Y', 'Y', 'N', 'N', 'N',\n",
              "       'N', 'N', 'Y', 'Y', 'N', 'Y', 'Y', 'Y', 'N', 'Y', 'N', 'N', 'N',\n",
              "       'N', 'Y', 'Y', 'Y', 'N', 'N', 'Y', 'Y', 'Y', 'Y', 'Y', 'Y', 'Y',\n",
              "       'Y', 'Y', 'Y', 'Y', 'N', 'Y', 'Y', 'Y', 'Y', 'Y', 'Y', 'Y', 'Y',\n",
              "       'Y', 'Y', 'Y', 'N', 'N', 'Y', 'Y', 'Y', 'N', 'Y', 'Y', 'Y', 'Y',\n",
              "       'Y', 'N', 'Y', 'Y', 'Y', 'Y', 'Y', 'Y', 'Y', 'Y', 'Y', 'N', 'N',\n",
              "       'Y', 'Y', 'Y', 'Y', 'Y', 'N', 'N', 'Y', 'N', 'N', 'N', 'Y', 'Y',\n",
              "       'Y', 'Y', 'Y', 'Y', 'Y', 'N', 'Y', 'N', 'Y', 'N', 'N', 'Y', 'Y',\n",
              "       'Y', 'Y', 'Y', 'Y', 'Y', 'N', 'N', 'Y', 'Y', 'Y', 'N', 'Y', 'N',\n",
              "       'Y', 'Y', 'Y', 'N', 'Y', 'N', 'Y', 'Y', 'N', 'Y', 'N', 'N', 'N',\n",
              "       'Y', 'N', 'Y', 'Y', 'N', 'Y', 'Y', 'Y', 'Y', 'N', 'N', 'Y', 'Y',\n",
              "       'N', 'Y', 'Y', 'Y', 'N', 'Y', 'Y', 'N', 'Y', 'Y', 'Y', 'Y', 'Y',\n",
              "       'Y', 'N', 'N', 'N', 'Y', 'Y', 'Y', 'Y', 'N', 'Y', 'N', 'Y', 'N',\n",
              "       'Y', 'Y', 'Y', 'Y', 'N', 'N', 'Y', 'Y', 'Y', 'Y', 'Y', 'Y', 'Y',\n",
              "       'Y', 'Y', 'N', 'Y', 'Y', 'Y', 'Y', 'N', 'Y', 'Y', 'Y', 'N', 'Y',\n",
              "       'Y', 'Y', 'Y', 'N', 'N', 'Y', 'Y', 'N', 'Y', 'N', 'N', 'N', 'N',\n",
              "       'Y', 'Y', 'N', 'Y', 'Y', 'Y', 'Y', 'Y', 'N', 'Y', 'Y', 'Y', 'Y',\n",
              "       'Y', 'Y', 'Y', 'Y', 'Y', 'Y', 'Y', 'N', 'Y', 'Y', 'Y', 'N', 'Y',\n",
              "       'N', 'Y', 'Y', 'Y', 'Y', 'N', 'Y', 'N', 'Y', 'Y', 'Y', 'Y', 'N',\n",
              "       'N', 'N', 'Y', 'Y', 'Y', 'Y', 'N', 'Y', 'N', 'N', 'Y', 'Y', 'Y',\n",
              "       'Y', 'Y', 'N', 'Y', 'Y', 'Y', 'Y', 'N', 'Y', 'Y', 'Y', 'Y', 'Y',\n",
              "       'N', 'Y', 'Y', 'N', 'Y', 'Y', 'Y', 'Y', 'Y', 'Y', 'Y', 'Y', 'Y',\n",
              "       'N', 'Y', 'N', 'N', 'Y', 'Y', 'Y', 'Y', 'N', 'Y', 'Y', 'Y', 'Y',\n",
              "       'N', 'Y', 'N', 'Y', 'Y', 'Y', 'N', 'N', 'Y', 'N', 'Y', 'Y', 'Y',\n",
              "       'Y', 'N', 'N', 'N', 'Y', 'N', 'Y', 'Y', 'Y', 'N', 'Y', 'Y', 'Y',\n",
              "       'Y', 'N', 'Y', 'Y', 'Y', 'Y', 'Y', 'N', 'Y', 'Y', 'N', 'Y', 'Y',\n",
              "       'Y', 'Y', 'Y', 'Y', 'Y', 'Y', 'N', 'Y', 'Y', 'N', 'N', 'N', 'Y',\n",
              "       'Y', 'N', 'Y', 'Y', 'Y', 'N', 'N', 'N', 'Y', 'N', 'Y', 'N', 'Y',\n",
              "       'N', 'N', 'Y', 'Y', 'Y', 'N', 'Y', 'N', 'Y', 'Y', 'N', 'Y', 'Y',\n",
              "       'Y', 'Y', 'N', 'Y', 'Y', 'Y', 'Y', 'Y', 'Y', 'N', 'Y', 'Y', 'Y',\n",
              "       'Y', 'Y', 'Y', 'Y', 'Y', 'N', 'N', 'N', 'N', 'Y', 'N', 'Y', 'Y',\n",
              "       'Y', 'Y', 'N', 'Y', 'N', 'Y', 'Y', 'Y', 'Y', 'N', 'Y', 'N', 'Y',\n",
              "       'Y', 'N', 'Y', 'N', 'Y', 'Y', 'Y', 'Y', 'Y', 'N', 'Y', 'N', 'Y',\n",
              "       'Y', 'Y', 'Y', 'Y', 'Y', 'N', 'N', 'Y', 'N', 'Y', 'Y', 'Y', 'Y',\n",
              "       'N', 'Y', 'Y', 'Y', 'Y', 'N', 'Y', 'Y', 'Y', 'N', 'Y', 'Y', 'Y',\n",
              "       'N', 'Y', 'Y', 'N', 'Y', 'Y', 'N', 'N', 'Y', 'Y', 'N', 'N', 'N',\n",
              "       'Y', 'Y', 'Y', 'Y', 'N', 'Y', 'Y', 'Y', 'Y', 'Y', 'Y', 'Y', 'N',\n",
              "       'N', 'Y', 'Y', 'Y', 'Y', 'N', 'Y', 'Y', 'N', 'Y', 'Y', 'Y', 'Y',\n",
              "       'N', 'Y', 'N', 'Y', 'N', 'Y', 'Y', 'N', 'N', 'Y', 'Y', 'Y', 'Y',\n",
              "       'Y', 'Y', 'Y', 'Y', 'Y', 'N', 'Y', 'Y', 'N', 'N', 'N', 'Y', 'N',\n",
              "       'Y', 'N', 'N', 'Y', 'N', 'Y', 'Y', 'Y', 'Y', 'N', 'Y', 'N', 'N',\n",
              "       'N', 'Y', 'Y', 'Y', 'N', 'Y', 'N', 'Y', 'Y', 'Y', 'Y', 'N', 'N',\n",
              "       'Y', 'Y', 'N', 'Y', 'Y', 'Y', 'Y', 'N', 'Y', 'Y', 'Y', 'Y', 'Y',\n",
              "       'Y', 'Y', 'N'], dtype=object)"
            ]
          },
          "metadata": {},
          "execution_count": 32
        }
      ]
    },
    {
      "cell_type": "code",
      "source": [
        "from sklearn.model_selection import train_test_split\n"
      ],
      "metadata": {
        "id": "ptuRYo4EcCji"
      },
      "execution_count": null,
      "outputs": []
    },
    {
      "cell_type": "code",
      "source": [
        "X_train, X_test, Y_train, Y_test = train_test_split(X, Y, test_size=0.2, random_state=50)"
      ],
      "metadata": {
        "id": "qDB1x-KZdB5h"
      },
      "execution_count": null,
      "outputs": []
    },
    {
      "cell_type": "code",
      "source": [
        "print(X_train)"
      ],
      "metadata": {
        "colab": {
          "base_uri": "https://localhost:8080/"
        },
        "id": "zowWReVZdZOg",
        "outputId": "1738d304-f573-4dab-94ab-70472d2d7ad0"
      },
      "execution_count": null,
      "outputs": [
        {
          "output_type": "stream",
          "name": "stdout",
          "text": [
            "[['Male' 'Yes' '0' ... 1.0 13650.0 9.521494800613105]\n",
            " ['Male' 'Yes' '2' ... 0.8421985815602837 3760.0 8.23217423638394]\n",
            " ['Male' 'No' '1' ... 1.0 6177.0 8.728587995695898]\n",
            " ...\n",
            " ['Male' 'No' '0' ... 1.0 9508.0 9.159888828480085]\n",
            " ['Male' 'Yes' '3+' ... 1.0 2825.0 7.946263643580541]\n",
            " ['Female' 'No' '0' ... 1.0 4350.0 8.37793112408273]]\n"
          ]
        }
      ]
    },
    {
      "cell_type": "code",
      "source": [
        "from sklearn.preprocessing import LabelEncoder\n",
        "\n",
        "label_x = LabelEncoder()"
      ],
      "metadata": {
        "id": "2Mp9ZPEoeImA"
      },
      "execution_count": null,
      "outputs": []
    },
    {
      "cell_type": "code",
      "source": [
        "for i in range(0, 5):\n",
        "  X_train[:,i]= label_x.fit_transform(X_train[:,i])\n",
        "\n"
      ],
      "metadata": {
        "id": "ByQlzYsWgAbY"
      },
      "execution_count": null,
      "outputs": []
    },
    {
      "cell_type": "code",
      "source": [
        " X_train[:,7] = label_x.fit_transform(X_train[:,7])"
      ],
      "metadata": {
        "id": "RCYcKq_nhrIW"
      },
      "execution_count": null,
      "outputs": []
    },
    {
      "cell_type": "code",
      "source": [
        "X_train"
      ],
      "metadata": {
        "colab": {
          "base_uri": "https://localhost:8080/"
        },
        "id": "lOJw2ER7iB62",
        "outputId": "ad65925a-750c-418c-fa11-76cd3f3c68af"
      },
      "execution_count": null,
      "outputs": [
        {
          "output_type": "execute_result",
          "data": {
            "text/plain": [
              "array([[1, 1, 0, ..., 1.0, 13650.0, 419],\n",
              "       [1, 1, 2, ..., 0.8421985815602837, 3760.0, 89],\n",
              "       [1, 0, 1, ..., 1.0, 6177.0, 275],\n",
              "       ...,\n",
              "       [1, 0, 0, ..., 1.0, 9508.0, 380],\n",
              "       [1, 1, 3, ..., 1.0, 2825.0, 20],\n",
              "       [0, 0, 0, ..., 1.0, 4350.0, 136]], dtype=object)"
            ]
          },
          "metadata": {},
          "execution_count": 39
        }
      ]
    },
    {
      "cell_type": "code",
      "source": [
        "label_y = LabelEncoder()"
      ],
      "metadata": {
        "id": "wemKErdFiPGJ"
      },
      "execution_count": null,
      "outputs": []
    },
    {
      "cell_type": "code",
      "source": [
        "Y_train = label_y.fit_transform(Y_train)"
      ],
      "metadata": {
        "id": "ylQssKc_iVQG"
      },
      "execution_count": null,
      "outputs": []
    },
    {
      "cell_type": "code",
      "source": [
        "Y_train"
      ],
      "metadata": {
        "colab": {
          "base_uri": "https://localhost:8080/"
        },
        "id": "eSGth37iiii2",
        "outputId": "697acbd7-1456-41a6-c141-4623c75132c5"
      },
      "execution_count": null,
      "outputs": [
        {
          "output_type": "execute_result",
          "data": {
            "text/plain": [
              "array([1, 1, 1, 1, 1, 1, 1, 0, 1, 1, 0, 0, 0, 1, 1, 1, 0, 0, 1, 0, 1, 1,\n",
              "       0, 0, 1, 1, 1, 1, 1, 0, 1, 1, 1, 0, 1, 0, 0, 1, 1, 1, 1, 1, 1, 1,\n",
              "       0, 0, 1, 1, 1, 1, 1, 0, 1, 1, 1, 0, 1, 0, 1, 0, 1, 1, 1, 1, 1, 1,\n",
              "       1, 1, 0, 1, 1, 1, 1, 0, 1, 0, 0, 1, 0, 0, 1, 1, 0, 1, 0, 1, 1, 1,\n",
              "       1, 1, 0, 1, 1, 1, 1, 1, 1, 1, 1, 1, 0, 1, 1, 0, 1, 1, 0, 1, 1, 1,\n",
              "       1, 1, 0, 1, 1, 1, 1, 1, 1, 1, 1, 0, 0, 1, 1, 1, 1, 1, 1, 1, 0, 0,\n",
              "       0, 1, 1, 0, 0, 1, 1, 1, 1, 1, 0, 1, 1, 0, 1, 1, 0, 0, 1, 1, 1, 1,\n",
              "       0, 0, 1, 1, 1, 0, 1, 0, 1, 1, 0, 1, 1, 0, 1, 1, 1, 1, 1, 1, 1, 1,\n",
              "       1, 1, 1, 1, 1, 0, 0, 1, 1, 0, 1, 1, 1, 1, 1, 1, 0, 1, 1, 1, 1, 1,\n",
              "       0, 0, 1, 0, 0, 0, 1, 1, 1, 0, 1, 1, 1, 1, 1, 0, 1, 1, 1, 1, 0, 1,\n",
              "       0, 1, 1, 1, 1, 1, 1, 1, 0, 1, 1, 0, 1, 0, 0, 1, 0, 1, 1, 1, 1, 1,\n",
              "       1, 1, 1, 0, 1, 1, 0, 1, 1, 1, 0, 1, 1, 0, 1, 1, 1, 1, 1, 1, 0, 1,\n",
              "       0, 1, 1, 0, 1, 1, 1, 0, 1, 1, 0, 1, 0, 1, 1, 0, 1, 1, 0, 1, 1, 1,\n",
              "       0, 1, 1, 1, 1, 1, 1, 1, 0, 1, 0, 1, 1, 1, 0, 0, 0, 0, 1, 1, 1, 0,\n",
              "       1, 0, 1, 1, 1, 1, 1, 1, 0, 0, 1, 1, 1, 0, 1, 1, 1, 0, 0, 1, 0, 1,\n",
              "       1, 1, 1, 1, 0, 1, 1, 1, 1, 1, 0, 1, 0, 1, 0, 1, 1, 1, 1, 1, 1, 0,\n",
              "       0, 1, 1, 0, 1, 0, 1, 1, 1, 0, 1, 0, 1, 1, 0, 0, 0, 1, 1, 0, 0, 1,\n",
              "       0, 1, 0, 1, 1, 0, 1, 1, 0, 0, 0, 0, 1, 1, 1, 0, 0, 1, 1, 0, 1, 1,\n",
              "       1, 1, 0, 1, 1, 0, 1, 0, 1, 1, 1, 1, 1, 1, 1, 1, 0, 1, 1, 1, 0, 0,\n",
              "       1, 1, 1, 1, 1, 1, 1, 0, 0, 0, 1, 1, 1, 1, 1, 1, 1, 1, 0, 1, 0, 1,\n",
              "       1, 0, 0, 0, 0, 0, 1, 0, 1, 1, 0, 1, 1, 1, 1, 1, 1, 1, 1, 0, 1, 1,\n",
              "       0, 1, 1, 0, 0, 1, 1, 0, 1, 0, 1, 0, 1, 1, 0, 0, 1, 0, 0, 0, 1, 1,\n",
              "       1, 1, 1, 1, 1, 1, 1])"
            ]
          },
          "metadata": {},
          "execution_count": 42
        }
      ]
    },
    {
      "cell_type": "code",
      "source": [
        "for i in range(0, 5):\n",
        "  X_test[:,i]= label_x.fit_transform(X_test[:,i])"
      ],
      "metadata": {
        "id": "f2R7qG0ZikYu"
      },
      "execution_count": null,
      "outputs": []
    },
    {
      "cell_type": "code",
      "source": [
        "X_test[:,7] = label_x.fit_transform(X_test[:,7])"
      ],
      "metadata": {
        "id": "fn4i91Eklft_"
      },
      "execution_count": null,
      "outputs": []
    },
    {
      "cell_type": "code",
      "source": [
        "label_y = LabelEncoder()\n",
        "Y_test = label_y.fit_transform(Y_test)"
      ],
      "metadata": {
        "id": "dytnNY44l0Qe"
      },
      "execution_count": null,
      "outputs": []
    },
    {
      "cell_type": "code",
      "source": [
        "X_test"
      ],
      "metadata": {
        "colab": {
          "base_uri": "https://localhost:8080/"
        },
        "id": "dV8GxVJmmBrY",
        "outputId": "c6385c1c-beef-4883-fc87-aac4234ca118"
      },
      "execution_count": null,
      "outputs": [
        {
          "output_type": "execute_result",
          "data": {
            "text/plain": [
              "array([[1, 1, 0, 1, 5, 1.0, 4887.0, 41],\n",
              "       [1, 1, 0, 0, 5, 1.0, 5461.0, 57],\n",
              "       [1, 1, 0, 0, 5, 1.0, 5704.0, 66],\n",
              "       [1, 1, 3, 0, 5, 0.0, 81000.0, 114],\n",
              "       [0, 0, 0, 0, 5, 1.0, 5000.0, 44],\n",
              "       [0, 0, 0, 0, 5, 0.8421985815602837, 4292.0, 30],\n",
              "       [1, 1, 1, 0, 5, 1.0, 4022.0, 26],\n",
              "       [1, 1, 0, 0, 5, 1.0, 5833.0, 70],\n",
              "       [1, 1, 1, 0, 5, 1.0, 4014.0, 25],\n",
              "       [0, 1, 0, 0, 5, 1.0, 6784.0, 83],\n",
              "       [0, 1, 1, 0, 0, 1.0, 4239.0, 29],\n",
              "       [1, 0, 0, 0, 5, 0.0, 6500.0, 80],\n",
              "       [1, 1, 3, 1, 5, 1.0, 5703.0, 65],\n",
              "       [1, 1, 2, 0, 5, 1.0, 8667.0, 92],\n",
              "       [1, 0, 0, 0, 5, 1.0, 5316.0, 52],\n",
              "       [0, 0, 0, 0, 5, 1.0, 2500.0, 4],\n",
              "       [1, 0, 0, 0, 5, 1.0, 5050.0, 45],\n",
              "       [1, 0, 0, 0, 5, 1.0, 6000.0, 72],\n",
              "       [1, 1, 0, 1, 4, 0.0, 7686.0, 87],\n",
              "       [1, 1, 1, 1, 5, 1.0, 4394.0, 33],\n",
              "       [1, 0, 0, 0, 5, 1.0, 3750.0, 21],\n",
              "       [1, 0, 0, 1, 3, 1.0, 2755.0, 7],\n",
              "       [1, 1, 3, 0, 1, 1.0, 7740.0, 88],\n",
              "       [1, 0, 0, 0, 5, 0.0, 10416.0, 103],\n",
              "       [1, 1, 2, 0, 5, 1.0, 4340.0, 31],\n",
              "       [1, 1, 0, 1, 5, 1.0, 5686.0, 64],\n",
              "       [1, 1, 1, 0, 5, 0.0, 4369.0, 32],\n",
              "       [1, 1, 2, 0, 5, 1.0, 5532.0, 61],\n",
              "       [1, 1, 3, 0, 5, 1.0, 5250.0, 49],\n",
              "       [1, 1, 0, 0, 4, 1.0, 9993.0, 98],\n",
              "       [1, 1, 0, 0, 5, 1.0, 2936.12000084, 9],\n",
              "       [0, 1, 0, 0, 5, 1.0, 5126.0, 46],\n",
              "       [1, 1, 0, 0, 5, 0.8421985815602837, 6166.0, 76],\n",
              "       [1, 1, 2, 1, 5, 1.0, 5191.0, 48],\n",
              "       [1, 0, 0, 1, 4, 1.0, 5787.0, 69],\n",
              "       [1, 0, 0, 0, 5, 0.0, 14999.0, 109],\n",
              "       [1, 1, 2, 1, 5, 0.0, 5282.0, 51],\n",
              "       [1, 1, 0, 0, 5, 1.0, 5182.0, 47],\n",
              "       [1, 1, 0, 0, 5, 1.0, 4915.0, 42],\n",
              "       [0, 0, 0, 0, 5, 0.8421985815602837, 6151.0, 75],\n",
              "       [1, 1, 0, 0, 5, 1.0, 2974.0, 10],\n",
              "       [1, 1, 1, 0, 5, 1.0, 7787.0, 89],\n",
              "       [1, 1, 2, 1, 5, 0.8421985815602837, 5333.0, 54],\n",
              "       [1, 1, 0, 0, 5, 1.0, 20667.0, 112],\n",
              "       [1, 1, 1, 0, 5, 1.0, 2395.0, 1],\n",
              "       [1, 1, 0, 1, 5, 0.0, 4787.0, 39],\n",
              "       [0, 0, 0, 1, 5, 1.0, 17263.0, 111],\n",
              "       [1, 0, 0, 0, 5, 1.0, 11376.0, 105],\n",
              "       [1, 0, 0, 0, 5, 1.0, 5417.0, 55],\n",
              "       [1, 0, 0, 1, 5, 1.0, 4592.0, 35],\n",
              "       [1, 1, 0, 0, 5, 1.0, 3775.0, 22],\n",
              "       [0, 0, 0, 0, 5, 1.0, 3244.0, 12],\n",
              "       [1, 0, 0, 0, 5, 1.0, 12000.0, 107],\n",
              "       [1, 1, 3, 0, 5, 0.0, 6144.0, 74],\n",
              "       [1, 1, 1, 1, 1, 1.0, 9762.0, 97],\n",
              "       [0, 1, 0, 0, 5, 1.0, 5262.0, 50],\n",
              "       [1, 1, 2, 1, 1, 0.0, 2889.0, 8],\n",
              "       [1, 1, 0, 0, 5, 1.0, 8334.0, 91],\n",
              "       [0, 0, 0, 0, 5, 0.0, 4583.0, 34],\n",
              "       [0, 1, 2, 0, 5, 1.0, 3259.0, 14],\n",
              "       [0, 0, 0, 0, 5, 1.0, 15759.0, 110],\n",
              "       [1, 1, 0, 0, 5, 1.0, 4718.0, 36],\n",
              "       [1, 0, 2, 0, 5, 1.0, 10180.0, 101],\n",
              "       [1, 1, 2, 0, 5, 0.0, 5050.0, 45],\n",
              "       [1, 1, 0, 0, 5, 1.0, 10039.0, 100],\n",
              "       [1, 1, 1, 0, 1, 1.0, 14583.0, 108],\n",
              "       [1, 0, 0, 0, 5, 1.0, 2435.0, 3],\n",
              "       [0, 0, 0, 0, 5, 1.0, 11666.0, 106],\n",
              "       [0, 1, 2, 0, 5, 0.8421985815602837, 6666.0, 81],\n",
              "       [1, 0, 1, 1, 5, 0.0, 6479.0, 79],\n",
              "       [1, 1, 0, 0, 5, 0.8421985815602837, 4192.0, 28],\n",
              "       [1, 1, 0, 0, 5, 1.0, 6784.0, 83],\n",
              "       [1, 1, 1, 1, 5, 0.0, 6715.0, 82],\n",
              "       [1, 1, 0, 1, 1, 1.0, 4188.0, 27],\n",
              "       [1, 1, 0, 0, 5, 1.0, 4727.0, 37],\n",
              "       [1, 0, 0, 0, 5, 1.0, 5762.0, 68],\n",
              "       [0, 0, 1, 0, 5, 1.0, 2600.0, 5],\n",
              "       [0, 1, 0, 0, 5, 1.0, 4583.0, 34],\n",
              "       [1, 1, 1, 1, 5, 0.8421985815602837, 9352.0, 93],\n",
              "       [1, 0, 0, 0, 5, 1.0, 5505.0, 60],\n",
              "       [1, 1, 0, 0, 5, 1.0, 5491.0, 58],\n",
              "       [1, 1, 0, 0, 5, 1.0, 4765.0, 38],\n",
              "       [1, 0, 0, 0, 5, 1.0, 7542.0, 85],\n",
              "       [0, 0, 0, 0, 5, 0.0, 3300.0, 16],\n",
              "       [1, 1, 0, 1, 1, 1.0, 6200.0, 77],\n",
              "       [1, 1, 0, 0, 5, 1.0, 4843.0, 40],\n",
              "       [0, 1, 0, 0, 5, 0.0, 5500.0, 59],\n",
              "       [1, 1, 2, 0, 5, 1.0, 9613.0, 96],\n",
              "       [1, 0, 0, 0, 6, 0.0, 2237.0, 0],\n",
              "       [1, 1, 0, 0, 5, 0.8421985815602837, 27500.0, 113],\n",
              "       [1, 1, 0, 0, 5, 1.0, 5858.0, 71],\n",
              "       [1, 1, 2, 0, 1, 1.0, 3286.7999878, 15],\n",
              "       [1, 1, 3, 0, 5, 1.0, 8334.0, 91],\n",
              "       [1, 1, 2, 0, 5, 1.0, 7550.0, 86],\n",
              "       [1, 1, 3, 1, 1, 1.0, 3522.0, 17],\n",
              "       [1, 1, 3, 0, 5, 0.0, 5540.0, 62],\n",
              "       [1, 1, 0, 0, 5, 0.0, 5754.0, 67],\n",
              "       [1, 1, 1, 0, 5, 1.0, 10750.0, 104],\n",
              "       [1, 0, 0, 0, 5, 1.0, 6099.0, 73],\n",
              "       [0, 0, 0, 0, 5, 1.0, 10000.0, 99],\n",
              "       [0, 1, 0, 0, 5, 1.0, 6816.0, 84],\n",
              "       [1, 1, 1, 0, 5, 1.0, 4939.0, 43],\n",
              "       [0, 0, 1, 1, 5, 1.0, 5191.0, 48],\n",
              "       [1, 1, 0, 0, 5, 1.0, 6327.0, 78],\n",
              "       [1, 1, 3, 0, 5, 1.0, 5666.0, 63],\n",
              "       [1, 1, 0, 0, 5, 1.0, 3250.0, 13],\n",
              "       [1, 1, 0, 1, 5, 1.0, 7823.0, 90],\n",
              "       [0, 1, 2, 1, 5, 1.0, 3127.0, 11],\n",
              "       [0, 0, 1, 1, 5, 1.0, 3867.0, 23],\n",
              "       [1, 1, 2, 0, 0, 1.0, 3620.0, 19],\n",
              "       [1, 1, 1, 0, 5, 1.0, 9538.0, 95],\n",
              "       [1, 0, 3, 0, 5, 1.0, 9357.0, 94],\n",
              "       [1, 1, 0, 1, 5, 1.0, 3589.0, 18],\n",
              "       [0, 0, 0, 0, 6, 0.0, 5417.0, 55],\n",
              "       [1, 1, 2, 0, 2, 1.0, 6000.0, 72],\n",
              "       [1, 1, 0, 0, 5, 1.0, 10321.0, 102],\n",
              "       [1, 1, 2, 1, 5, 1.0, 3917.0, 24],\n",
              "       [1, 1, 2, 0, 5, 1.0, 3717.0, 20],\n",
              "       [0, 0, 0, 1, 4, 0.0, 2720.0, 6],\n",
              "       [0, 0, 0, 0, 5, 1.0, 5428.0, 56],\n",
              "       [0, 0, 0, 0, 5, 1.0, 6000.0, 72],\n",
              "       [1, 1, 0, 0, 5, 0.8421985815602837, 2400.0, 2],\n",
              "       [1, 1, 2, 0, 5, 1.0, 5318.0, 53]], dtype=object)"
            ]
          },
          "metadata": {},
          "execution_count": 46
        }
      ]
    },
    {
      "cell_type": "code",
      "source": [
        "Y_test"
      ],
      "metadata": {
        "colab": {
          "base_uri": "https://localhost:8080/"
        },
        "id": "LW9zMBGqmDYk",
        "outputId": "99bd7e13-220b-485e-a046-e6aa9d06d49e"
      },
      "execution_count": null,
      "outputs": [
        {
          "output_type": "execute_result",
          "data": {
            "text/plain": [
              "array([0, 1, 1, 0, 1, 1, 0, 1, 1, 0, 1, 0, 1, 1, 1, 1, 1, 1, 0, 1, 1, 0,\n",
              "       1, 0, 1, 1, 0, 1, 0, 1, 1, 1, 1, 1, 1, 0, 0, 1, 0, 1, 1, 1, 1, 0,\n",
              "       1, 0, 1, 1, 1, 1, 1, 1, 0, 1, 1, 1, 0, 0, 0, 0, 1, 1, 1, 0, 1, 1,\n",
              "       0, 0, 1, 0, 1, 0, 1, 1, 1, 1, 0, 0, 0, 1, 1, 1, 1, 0, 0, 1, 0, 1,\n",
              "       0, 1, 1, 1, 1, 1, 0, 0, 0, 1, 1, 0, 1, 0, 1, 1, 1, 0, 1, 1, 0, 1,\n",
              "       1, 1, 1, 0, 0, 0, 1, 1, 0, 1, 1, 1, 1])"
            ]
          },
          "metadata": {},
          "execution_count": 47
        }
      ]
    },
    {
      "cell_type": "code",
      "source": [
        "from sklearn.preprocessing import StandardScaler"
      ],
      "metadata": {
        "id": "qyyXUrbpmMNs"
      },
      "execution_count": null,
      "outputs": []
    },
    {
      "cell_type": "code",
      "source": [
        "sd = StandardScaler()"
      ],
      "metadata": {
        "id": "fIGTajFRm5Hc"
      },
      "execution_count": null,
      "outputs": []
    },
    {
      "cell_type": "code",
      "source": [
        "e = sd.fit_transform(X_train)"
      ],
      "metadata": {
        "id": "pwEl7OpxnMUo"
      },
      "execution_count": null,
      "outputs": []
    },
    {
      "cell_type": "code",
      "source": [
        "f = sd.fit_transform(X_test)"
      ],
      "metadata": {
        "id": "r2_wtWrdndzj"
      },
      "execution_count": null,
      "outputs": []
    },
    {
      "cell_type": "code",
      "source": [
        "e"
      ],
      "metadata": {
        "colab": {
          "base_uri": "https://localhost:8080/"
        },
        "id": "CmC8P1ktnwio",
        "outputId": "4461ea68-d2d2-4bce-e32d-b74d4120e04f"
      },
      "execution_count": null,
      "outputs": [
        {
          "output_type": "execute_result",
          "data": {
            "text/plain": [
              "array([[ 0.45429969,  0.73758061, -0.74496673, ...,  0.44233731,\n",
              "         1.0794574 ,  1.47225646],\n",
              "       [ 0.45429969,  0.73758061,  1.23757345, ..., -0.01788264,\n",
              "        -0.53567191, -1.05050409],\n",
              "       [ 0.45429969, -1.35578401,  0.24630336, ...,  0.44233731,\n",
              "        -0.14095325,  0.3714155 ],\n",
              "       ...,\n",
              "       [ 0.45429969, -1.35578401, -0.74496673, ...,  0.44233731,\n",
              "         0.40303014,  1.17411204],\n",
              "       [ 0.45429969,  0.73758061,  2.22884354, ...,  0.44233731,\n",
              "        -0.68836614, -1.57799038],\n",
              "       [-2.20119015, -1.35578401, -0.74496673, ...,  0.44233731,\n",
              "        -0.4393194 , -0.69120183]])"
            ]
          },
          "metadata": {},
          "execution_count": 61
        }
      ]
    },
    {
      "cell_type": "code",
      "source": [
        "f"
      ],
      "metadata": {
        "colab": {
          "base_uri": "https://localhost:8080/"
        },
        "id": "giHPRcXfnxnr",
        "outputId": "396d0235-006b-4e91-d9dd-8bded9a82648"
      },
      "execution_count": null,
      "outputs": [
        {
          "output_type": "execute_result",
          "data": {
            "text/plain": [
              "array([[ 0.54289671,  0.69421013, -0.70958513,  1.84197099,  0.33164176,\n",
              "         0.48833151, -0.27212525, -0.5036335 ],\n",
              "       [ 0.54289671,  0.69421013, -0.70958513, -0.54289671,  0.33164176,\n",
              "         0.48833151, -0.19689268, -0.01101385],\n",
              "       [ 0.54289671,  0.69421013, -0.70958513, -0.54289671,  0.33164176,\n",
              "         0.48833151, -0.16504335,  0.2660847 ],\n",
              "       [ 0.54289671,  0.69421013,  2.26583433, -0.54289671,  0.33164176,\n",
              "        -2.19071425,  9.70379217,  1.74394363],\n",
              "       [-1.84197099, -1.44048603, -0.70958513, -0.54289671,  0.33164176,\n",
              "         0.48833151, -0.25731466, -0.41126731],\n",
              "       [-1.84197099, -1.44048603, -0.70958513, -0.54289671,  0.33164176,\n",
              "         0.06557429, -0.35011023, -0.8423095 ],\n",
              "       [ 0.54289671,  0.69421013,  0.28222136, -0.54289671,  0.33164176,\n",
              "         0.48833151, -0.38549837, -0.96546441],\n",
              "       [ 0.54289671,  0.69421013, -0.70958513, -0.54289671,  0.33164176,\n",
              "         0.48833151, -0.14813568,  0.38923961],\n",
              "       [ 0.54289671,  0.69421013,  0.28222136, -0.54289671,  0.33164176,\n",
              "         0.48833151, -0.38654691, -0.99625314],\n",
              "       [-1.84197099,  0.69421013, -0.70958513, -0.54289671,  0.33164176,\n",
              "         0.48833151, -0.02349078,  0.78949307],\n",
              "       [-1.84197099,  0.69421013,  0.28222136, -0.54289671, -3.83080075,\n",
              "         0.48833151, -0.35705679, -0.87309823],\n",
              "       [ 0.54289671, -1.44048603, -0.70958513, -0.54289671,  0.33164176,\n",
              "        -2.19071425, -0.06071386,  0.69712688],\n",
              "       [ 0.54289671,  0.69421013,  2.26583433,  1.84197099,  0.33164176,\n",
              "         0.48833151, -0.16517442,  0.23529597],\n",
              "       [ 0.54289671,  0.69421013,  1.27402784, -0.54289671,  0.33164176,\n",
              "         0.48833151,  0.22330875,  1.06659162],\n",
              "       [ 0.54289671, -1.44048603, -0.70958513, -0.54289671,  0.33164176,\n",
              "         0.48833151, -0.21589742, -0.16495749],\n",
              "       [-1.84197099, -1.44048603, -0.70958513, -0.54289671,  0.33164176,\n",
              "         0.48833151, -0.58498264, -1.64281642],\n",
              "       [ 0.54289671, -1.44048603, -0.70958513, -0.54289671,  0.33164176,\n",
              "         0.48833151, -0.2507613 , -0.38047859],\n",
              "       [ 0.54289671, -1.44048603, -0.70958513, -0.54289671,  0.33164176,\n",
              "         0.48833151, -0.12624746,  0.45081706],\n",
              "       [ 0.54289671,  0.69421013, -0.70958513,  1.84197099, -0.50084674,\n",
              "        -2.19071425,  0.09473183,  0.91264798],\n",
              "       [ 0.54289671,  0.69421013,  0.28222136,  1.84197099,  0.33164176,\n",
              "         0.48833151, -0.33674138, -0.74994332],\n",
              "       [ 0.54289671, -1.44048603, -0.70958513, -0.54289671,  0.33164176,\n",
              "         0.48833151, -0.42114865, -1.11940805],\n",
              "       [ 0.54289671, -1.44048603, -0.70958513,  1.84197099, -1.33333524,\n",
              "         0.48833151, -0.55156051, -1.55045024],\n",
              "       [ 0.54289671,  0.69421013,  2.26583433, -0.54289671, -2.99831224,\n",
              "         0.48833151,  0.10180946,  0.94343671],\n",
              "       [ 0.54289671, -1.44048603, -0.70958513, -0.54289671,  0.33164176,\n",
              "        -2.19071425,  0.45254527,  1.40526762],\n",
              "       [ 0.54289671,  0.69421013,  1.27402784, -0.54289671,  0.33164176,\n",
              "         0.48833151, -0.343819  , -0.81152077],\n",
              "       [ 0.54289671,  0.69421013, -0.70958513,  1.84197099,  0.33164176,\n",
              "         0.48833151, -0.16740256,  0.20450724],\n",
              "       [ 0.54289671,  0.69421013,  0.28222136, -0.54289671,  0.33164176,\n",
              "        -2.19071425, -0.34001806, -0.78073205],\n",
              "       [ 0.54289671,  0.69421013,  1.27402784, -0.54289671,  0.33164176,\n",
              "         0.48833151, -0.18758691,  0.11214106],\n",
              "       [ 0.54289671,  0.69421013,  2.26583433, -0.54289671,  0.33164176,\n",
              "         0.48833151, -0.22454786, -0.25732368],\n",
              "       [ 0.54289671,  0.69421013, -0.70958513, -0.54289671, -0.50084674,\n",
              "         0.48833151,  0.39710385,  1.25132398],\n",
              "       [ 0.54289671,  0.69421013, -0.70958513, -0.54289671,  0.33164176,\n",
              "         0.48833151, -0.52782162, -1.48887278],\n",
              "       [-1.84197099,  0.69421013, -0.70958513, -0.54289671,  0.33164176,\n",
              "         0.48833151, -0.24080019, -0.34968986],\n",
              "       [ 0.54289671,  0.69421013, -0.70958513, -0.54289671,  0.33164176,\n",
              "         0.06557429, -0.10449031,  0.57397197],\n",
              "       [ 0.54289671,  0.69421013,  1.27402784,  1.84197099,  0.33164176,\n",
              "         0.48833151, -0.23228082, -0.2881124 ],\n",
              "       [ 0.54289671, -1.44048603, -0.70958513,  1.84197099, -0.50084674,\n",
              "         0.48833151, -0.15416477,  0.35845088],\n",
              "       [ 0.54289671, -1.44048603, -0.70958513, -0.54289671,  0.33164176,\n",
              "        -2.19071425,  1.05322623,  1.58999999],\n",
              "       [ 0.54289671,  0.69421013,  1.27402784,  1.84197099,  0.33164176,\n",
              "        -2.19071425, -0.22035371, -0.19574622],\n",
              "       [ 0.54289671,  0.69421013, -0.70958513, -0.54289671,  0.33164176,\n",
              "         0.48833151, -0.23346043, -0.31890113],\n",
              "       [ 0.54289671,  0.69421013, -0.70958513, -0.54289671,  0.33164176,\n",
              "         0.48833151, -0.26845537, -0.47284477],\n",
              "       [-1.84197099, -1.44048603, -0.70958513, -0.54289671,  0.33164176,\n",
              "         0.06557429, -0.10645631,  0.54318324],\n",
              "       [ 0.54289671,  0.69421013, -0.70958513, -0.54289671,  0.33164176,\n",
              "         0.48833151, -0.52285679, -1.45808406],\n",
              "       [ 0.54289671,  0.69421013,  0.28222136, -0.54289671,  0.33164176,\n",
              "         0.48833151,  0.10796962,  0.97422543],\n",
              "       [ 0.54289671,  0.69421013,  1.27402784,  1.84197099,  0.33164176,\n",
              "         0.06557429, -0.21366928, -0.10338004],\n",
              "       [ 0.54289671,  0.69421013, -0.70958513, -0.54289671,  0.33164176,\n",
              "         0.48833151,  1.79611509,  1.68236617],\n",
              "       [ 0.54289671,  0.69421013,  0.28222136, -0.54289671,  0.33164176,\n",
              "         0.48833151, -0.5987447 , -1.73518261],\n",
              "       [ 0.54289671,  0.69421013, -0.70958513,  1.84197099,  0.33164176,\n",
              "        -2.19071425, -0.28523197, -0.56521095],\n",
              "       [-1.84197099, -1.44048603, -0.70958513,  1.84197099,  0.33164176,\n",
              "         0.48833151,  1.34996236,  1.65157744],\n",
              "       [ 0.54289671, -1.44048603, -0.70958513, -0.54289671,  0.33164176,\n",
              "         0.48833151,  0.57836978,  1.46684508],\n",
              "       [ 0.54289671, -1.44048603, -0.70958513, -0.54289671,  0.33164176,\n",
              "         0.48833151, -0.20265963, -0.07259131],\n",
              "       [ 0.54289671, -1.44048603, -0.70958513,  1.84197099,  0.33164176,\n",
              "         0.48833151, -0.31079007, -0.68836586],\n",
              "       [ 0.54289671,  0.69421013, -0.70958513, -0.54289671,  0.33164176,\n",
              "         0.48833151, -0.41787197, -1.08861932],\n",
              "       [-1.84197099, -1.44048603, -0.70958513, -0.54289671,  0.33164176,\n",
              "         0.48833151, -0.48746865, -1.3965066 ],\n",
              "       [ 0.54289671, -1.44048603, -0.70958513, -0.54289671,  0.33164176,\n",
              "         0.48833151,  0.66015571,  1.52842253],\n",
              "       [ 0.54289671,  0.69421013,  2.26583433, -0.54289671,  0.33164176,\n",
              "        -2.19071425, -0.10737378,  0.51239452],\n",
              "       [ 0.54289671,  0.69421013,  0.28222136,  1.84197099, -2.99831224,\n",
              "         0.48833151,  0.36682733,  1.22053525],\n",
              "       [-1.84197099,  0.69421013, -0.70958513, -0.54289671,  0.33164176,\n",
              "         0.48833151, -0.22297505, -0.22653495],\n",
              "       [ 0.54289671,  0.69421013,  1.27402784,  1.84197099, -2.99831224,\n",
              "        -2.19071425, -0.5339975 , -1.51966151],\n",
              "       [ 0.54289671,  0.69421013, -0.70958513, -0.54289671,  0.33164176,\n",
              "         0.48833151,  0.17966337,  1.03580289],\n",
              "       [-1.84197099, -1.44048603, -0.70958513, -0.54289671,  0.33164176,\n",
              "        -2.19071425, -0.31196968, -0.71915459],\n",
              "       [-1.84197099,  0.69421013,  1.27402784, -0.54289671,  0.33164176,\n",
              "         0.48833151, -0.48550264, -1.33492915],\n",
              "       [-1.84197099, -1.44048603, -0.70958513, -0.54289671,  0.33164176,\n",
              "         0.48833151,  1.1528373 ,  1.62078871],\n",
              "       [ 0.54289671,  0.69421013, -0.70958513, -0.54289671,  0.33164176,\n",
              "         0.48833151, -0.2942756 , -0.65757714],\n",
              "       [ 0.54289671, -1.44048603,  1.27402784, -0.54289671,  0.33164176,\n",
              "         0.48833151,  0.42161342,  1.34369017],\n",
              "       [ 0.54289671,  0.69421013,  1.27402784, -0.54289671,  0.33164176,\n",
              "        -2.19071425, -0.2507613 , -0.38047859],\n",
              "       [ 0.54289671,  0.69421013, -0.70958513, -0.54289671,  0.33164176,\n",
              "         0.48833151,  0.40313294,  1.31290144],\n",
              "       [ 0.54289671,  0.69421013,  0.28222136, -0.54289671, -2.99831224,\n",
              "         0.48833151,  0.99870228,  1.55921126],\n",
              "       [ 0.54289671, -1.44048603, -0.70958513, -0.54289671,  0.33164176,\n",
              "         0.48833151, -0.59350201, -1.67360515],\n",
              "       [-1.84197099, -1.44048603, -0.70958513, -0.54289671,  0.33164176,\n",
              "         0.48833151,  0.61637927,  1.4976338 ],\n",
              "       [-1.84197099,  0.69421013,  1.27402784, -0.54289671,  0.33164176,\n",
              "         0.06557429, -0.03895671,  0.72791561],\n",
              "       [ 0.54289671, -1.44048603,  0.28222136,  1.84197099,  0.33164176,\n",
              "        -2.19071425, -0.06346627,  0.66633816],\n",
              "       [ 0.54289671,  0.69421013, -0.70958513, -0.54289671,  0.33164176,\n",
              "         0.06557429, -0.36321695, -0.90388696],\n",
              "       [ 0.54289671,  0.69421013, -0.70958513, -0.54289671,  0.33164176,\n",
              "         0.48833151, -0.02349078,  0.78949307],\n",
              "       [ 0.54289671,  0.69421013,  0.28222136,  1.84197099,  0.33164176,\n",
              "        -2.19071425, -0.03253442,  0.75870434],\n",
              "       [ 0.54289671,  0.69421013, -0.70958513,  1.84197099, -2.99831224,\n",
              "         0.48833151, -0.36374122, -0.93467569],\n",
              "       [ 0.54289671,  0.69421013, -0.70958513, -0.54289671,  0.33164176,\n",
              "         0.48833151, -0.293096  , -0.62678841],\n",
              "       [ 0.54289671, -1.44048603, -0.70958513, -0.54289671,  0.33164176,\n",
              "         0.48833151, -0.15744145,  0.32766215],\n",
              "       [-1.84197099, -1.44048603,  0.28222136, -0.54289671,  0.33164176,\n",
              "         0.48833151, -0.57187592, -1.61202769],\n",
              "       [-1.84197099,  0.69421013, -0.70958513, -0.54289671,  0.33164176,\n",
              "         0.48833151, -0.31196968, -0.71915459],\n",
              "       [ 0.54289671,  0.69421013,  0.28222136,  1.84197099,  0.33164176,\n",
              "         0.06557429,  0.31308978,  1.09738034],\n",
              "       [ 0.54289671, -1.44048603, -0.70958513, -0.54289671,  0.33164176,\n",
              "         0.48833151, -0.19112572,  0.08135233],\n",
              "       [ 0.54289671,  0.69421013, -0.70958513, -0.54289671,  0.33164176,\n",
              "         0.48833151, -0.19296066,  0.01977487],\n",
              "       [ 0.54289671,  0.69421013, -0.70958513, -0.54289671,  0.33164176,\n",
              "         0.48833151, -0.28811545, -0.59599968],\n",
              "       [ 0.54289671, -1.44048603, -0.70958513, -0.54289671,  0.33164176,\n",
              "         0.48833151,  0.07585815,  0.85107052],\n",
              "       [-1.84197099, -1.44048603, -0.70958513, -0.54289671,  0.33164176,\n",
              "        -2.19071425, -0.48012889, -1.27335169],\n",
              "       [ 0.54289671,  0.69421013, -0.70958513,  1.84197099, -2.99831224,\n",
              "         0.48833151, -0.10003402,  0.6047607 ],\n",
              "       [ 0.54289671,  0.69421013, -0.70958513, -0.54289671,  0.33164176,\n",
              "         0.48833151, -0.2778922 , -0.53442222],\n",
              "       [-1.84197099,  0.69421013, -0.70958513, -0.54289671,  0.33164176,\n",
              "        -2.19071425, -0.19178106,  0.0505636 ],\n",
              "       [ 0.54289671,  0.69421013,  1.27402784, -0.54289671,  0.33164176,\n",
              "         0.48833151,  0.34729832,  1.18974653],\n",
              "       [ 0.54289671, -1.44048603, -0.70958513, -0.54289671,  1.16413026,\n",
              "        -2.19071425, -0.61945332, -1.76597133],\n",
              "       [ 0.54289671,  0.69421013, -0.70958513, -0.54289671,  0.33164176,\n",
              "         0.06557429,  2.69169723,  1.7131549 ],\n",
              "       [ 0.54289671,  0.69421013, -0.70958513, -0.54289671,  0.33164176,\n",
              "         0.48833151, -0.144859  ,  0.42002833],\n",
              "       [ 0.54289671,  0.69421013,  1.27402784, -0.54289671, -2.99831224,\n",
              "         0.48833151, -0.48185898, -1.30414042],\n",
              "       [ 0.54289671,  0.69421013,  2.26583433, -0.54289671,  0.33164176,\n",
              "         0.48833151,  0.17966337,  1.03580289],\n",
              "       [ 0.54289671,  0.69421013,  1.27402784, -0.54289671,  0.33164176,\n",
              "         0.48833151,  0.07690669,  0.88185925],\n",
              "       [ 0.54289671,  0.69421013,  2.26583433,  1.84197099, -2.99831224,\n",
              "         0.48833151, -0.45103197, -1.24256296],\n",
              "       [ 0.54289671,  0.69421013,  2.26583433, -0.54289671,  0.33164176,\n",
              "        -2.19071425, -0.18653837,  0.14292978],\n",
              "       [ 0.54289671,  0.69421013, -0.70958513, -0.54289671,  0.33164176,\n",
              "        -2.19071425, -0.15848999,  0.29687342],\n",
              "       [ 0.54289671,  0.69421013,  0.28222136, -0.54289671,  0.33164176,\n",
              "         0.48833151,  0.49632172,  1.43605635],\n",
              "       [ 0.54289671, -1.44048603, -0.70958513, -0.54289671,  0.33164176,\n",
              "         0.48833151, -0.11327181,  0.48160579],\n",
              "       [-1.84197099, -1.44048603, -0.70958513, -0.54289671,  0.33164176,\n",
              "         0.48833151,  0.39802132,  1.28211271],\n",
              "       [-1.84197099,  0.69421013, -0.70958513, -0.54289671,  0.33164176,\n",
              "         0.48833151, -0.01929663,  0.82028179],\n",
              "       [ 0.54289671,  0.69421013,  0.28222136, -0.54289671,  0.33164176,\n",
              "         0.48833151, -0.26530975, -0.44205604],\n",
              "       [-1.84197099, -1.44048603,  0.28222136,  1.84197099,  0.33164176,\n",
              "         0.48833151, -0.23228082, -0.2881124 ],\n",
              "       [ 0.54289671,  0.69421013, -0.70958513, -0.54289671,  0.33164176,\n",
              "         0.48833151, -0.08338849,  0.63554943],\n",
              "       [ 0.54289671,  0.69421013,  2.26583433, -0.54289671,  0.33164176,\n",
              "         0.48833151, -0.1700239 ,  0.17371851],\n",
              "       [ 0.54289671,  0.69421013, -0.70958513, -0.54289671,  0.33164176,\n",
              "         0.48833151, -0.48668225, -1.36571787],\n",
              "       [ 0.54289671,  0.69421013, -0.70958513,  1.84197099,  0.33164176,\n",
              "         0.48833151,  0.11268804,  1.00501416],\n",
              "       [-1.84197099,  0.69421013,  1.27402784,  1.84197099,  0.33164176,\n",
              "         0.48833151, -0.50280351, -1.42729533],\n",
              "       [-1.84197099, -1.44048603,  0.28222136,  1.84197099,  0.33164176,\n",
              "         0.48833151, -0.40581379, -1.0578306 ],\n",
              "       [ 0.54289671,  0.69421013,  1.27402784, -0.54289671, -3.83080075,\n",
              "         0.48833151, -0.43818738, -1.18098551],\n",
              "       [ 0.54289671,  0.69421013,  0.28222136, -0.54289671,  0.33164176,\n",
              "         0.48833151,  0.33746828,  1.1589578 ],\n",
              "       [ 0.54289671, -1.44048603,  2.26583433, -0.54289671,  0.33164176,\n",
              "         0.48833151,  0.31374511,  1.12816907],\n",
              "       [ 0.54289671,  0.69421013, -0.70958513,  1.84197099,  0.33164176,\n",
              "         0.48833151, -0.44225047, -1.21177423],\n",
              "       [-1.84197099, -1.44048603, -0.70958513, -0.54289671,  1.16413026,\n",
              "        -2.19071425, -0.20265963, -0.07259131],\n",
              "       [ 0.54289671,  0.69421013,  1.27402784, -0.54289671, -2.16582374,\n",
              "         0.48833151, -0.12624746,  0.45081706],\n",
              "       [ 0.54289671,  0.69421013, -0.70958513, -0.54289671,  0.33164176,\n",
              "         0.48833151,  0.44009389,  1.37447889],\n",
              "       [ 0.54289671,  0.69421013,  1.27402784,  1.84197099,  0.33164176,\n",
              "         0.48833151, -0.39926043, -1.02704187],\n",
              "       [ 0.54289671,  0.69421013,  1.27402784, -0.54289671,  0.33164176,\n",
              "         0.48833151, -0.42547387, -1.15019678],\n",
              "       [-1.84197099, -1.44048603, -0.70958513,  1.84197099, -0.50084674,\n",
              "        -2.19071425, -0.55614786, -1.58123897],\n",
              "       [-1.84197099, -1.44048603, -0.70958513, -0.54289671,  0.33164176,\n",
              "         0.48833151, -0.2012179 , -0.04180258],\n",
              "       [-1.84197099, -1.44048603, -0.70958513, -0.54289671,  0.33164176,\n",
              "         0.48833151, -0.12624746,  0.45081706],\n",
              "       [ 0.54289671,  0.69421013, -0.70958513, -0.54289671,  0.33164176,\n",
              "         0.06557429, -0.59808936, -1.70439388],\n",
              "       [ 0.54289671,  0.69421013,  1.27402784, -0.54289671,  0.33164176,\n",
              "         0.48833151, -0.21563529, -0.13416876]])"
            ]
          },
          "metadata": {},
          "execution_count": 62
        }
      ]
    },
    {
      "cell_type": "code",
      "source": [
        "from sklearn.linear_model import LogisticRegression"
      ],
      "metadata": {
        "id": "yTBMNeN6n30h"
      },
      "execution_count": null,
      "outputs": []
    },
    {
      "cell_type": "code",
      "source": [
        "g = LogisticRegression()"
      ],
      "metadata": {
        "id": "pE7OWtqLoGkk"
      },
      "execution_count": null,
      "outputs": []
    },
    {
      "cell_type": "code",
      "source": [
        "g.fit(X_train, Y_train)"
      ],
      "metadata": {
        "colab": {
          "base_uri": "https://localhost:8080/"
        },
        "id": "GztdE3OFo_CG",
        "outputId": "864c3008-3dfb-449e-a150-035bcb574789"
      },
      "execution_count": null,
      "outputs": [
        {
          "output_type": "execute_result",
          "data": {
            "text/plain": [
              "LogisticRegression()"
            ]
          },
          "metadata": {},
          "execution_count": 56
        }
      ]
    },
    {
      "cell_type": "code",
      "source": [
        "predict = g.predict(X_test)\n",
        "predict"
      ],
      "metadata": {
        "colab": {
          "base_uri": "https://localhost:8080/"
        },
        "id": "ioOkJm27pdWr",
        "outputId": "21c815b3-a7a2-45a4-a272-237648d26f78"
      },
      "execution_count": null,
      "outputs": [
        {
          "output_type": "execute_result",
          "data": {
            "text/plain": [
              "array([1, 1, 1, 0, 1, 1, 1, 1, 1, 1, 1, 0, 1, 1, 1, 1, 1, 1, 0, 1, 1, 1,\n",
              "       1, 0, 1, 1, 0, 1, 1, 1, 1, 1, 1, 1, 1, 0, 0, 1, 1, 1, 1, 1, 1, 1,\n",
              "       1, 0, 1, 1, 1, 1, 1, 1, 1, 0, 1, 1, 0, 1, 0, 1, 1, 1, 1, 0, 1, 1,\n",
              "       1, 1, 1, 0, 1, 1, 0, 1, 1, 1, 1, 1, 1, 1, 1, 1, 1, 0, 1, 1, 0, 1,\n",
              "       0, 1, 1, 1, 1, 1, 1, 0, 0, 1, 1, 1, 1, 1, 1, 1, 1, 1, 1, 1, 1, 1,\n",
              "       1, 1, 1, 0, 1, 1, 1, 1, 0, 1, 1, 1, 1])"
            ]
          },
          "metadata": {},
          "execution_count": 57
        }
      ]
    },
    {
      "cell_type": "code",
      "source": [
        "predicted = label_y.inverse_transform(predict)"
      ],
      "metadata": {
        "id": "458BxC5zqc6a"
      },
      "execution_count": null,
      "outputs": []
    },
    {
      "cell_type": "code",
      "source": [
        "X_test['Loan_Status']=predict"
      ],
      "metadata": {
        "colab": {
          "base_uri": "https://localhost:8080/",
          "height": 165
        },
        "id": "uFd5JKBzqtuC",
        "outputId": "e21fb2e4-d208-4ec9-aa9e-19ba250dfa78"
      },
      "execution_count": null,
      "outputs": [
        {
          "output_type": "error",
          "ename": "IndexError",
          "evalue": "ignored",
          "traceback": [
            "\u001b[0;31m---------------------------------------------------------------------------\u001b[0m",
            "\u001b[0;31mIndexError\u001b[0m                                Traceback (most recent call last)",
            "\u001b[0;32m<ipython-input-59-fd54df0c7415>\u001b[0m in \u001b[0;36m<module>\u001b[0;34m\u001b[0m\n\u001b[0;32m----> 1\u001b[0;31m \u001b[0mX_test\u001b[0m\u001b[0;34m[\u001b[0m\u001b[0;34m'Loan_Status'\u001b[0m\u001b[0;34m]\u001b[0m\u001b[0;34m=\u001b[0m\u001b[0mpredict\u001b[0m\u001b[0;34m\u001b[0m\u001b[0;34m\u001b[0m\u001b[0m\n\u001b[0m",
            "\u001b[0;31mIndexError\u001b[0m: only integers, slices (`:`), ellipsis (`...`), numpy.newaxis (`None`) and integer or boolean arrays are valid indices"
          ]
        }
      ]
    },
    {
      "cell_type": "code",
      "source": [],
      "metadata": {
        "id": "rhYG7gCQrRqc"
      },
      "execution_count": null,
      "outputs": []
    }
  ]
}